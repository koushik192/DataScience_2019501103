{
 "cells": [
  {
   "cell_type": "code",
   "execution_count": 3,
   "metadata": {},
   "outputs": [
    {
     "ename": "SyntaxError",
     "evalue": "invalid syntax (<ipython-input-3-21d55244c872>, line 27)",
     "output_type": "error",
     "traceback": [
      "\u001b[0;36m  File \u001b[0;32m\"<ipython-input-3-21d55244c872>\"\u001b[0;36m, line \u001b[0;32m27\u001b[0m\n\u001b[0;31m    filtersector = tickerandsector.loc[tickerandsector['industry'] == selectedsector]\u001b[0m\n\u001b[0m    ^\u001b[0m\n\u001b[0;31mSyntaxError\u001b[0m\u001b[0;31m:\u001b[0m invalid syntax\n"
     ]
    }
   ],
   "source": [
    "import bs4 as bs\n",
    "import requests\n",
    "import pandas as pd\n",
    " \n",
    "def save_sp500_tickers(selectedsector):\n",
    "    resp = requests.get('http://en.wikipedia.org/wiki/List_of_S%26P_500_companies')\n",
    "    soup = bs.BeautifulSoup(resp.text, 'lxml')\n",
    "    table = soup.find('table', {'class': 'wikitable sortable'})\n",
    "\n",
    "    tickers = []\n",
    "    industries = []\n",
    "\n",
    "    for row in table.findAll('tr')[1:]:\n",
    "            ticker = row.findAll('td')[0].text\n",
    "            industry = row.findAll('td')[4].text\n",
    "\n",
    "            tickers.append(ticker)\n",
    "            industries.append(industry)\n",
    "\n",
    "    tickers = list(map(lambda s: s.strip(), tickers))\n",
    "    industries = list(map(lambda s: s.strip(), industries))\n",
    "\n",
    "    tickerdf = pd.DataFrame(tickers,columns=['ticker'])\n",
    "    sectordf = pd.DataFrame(industries,columns=['industry'])\n",
    "\n",
    "    tickerandsector = pd.concat([tickerdf, sectordf], axis=1, reindex((tickerdf.index))\n",
    "    filtersector = tickerandsector.loc[tickerandsector['industry'] == selectedsector]\n",
    "\n",
    "    listoftickers =  filtersector['ticker'].tolist()\n",
    "    return listoftickers\n",
    "\n",
    "save_sp500_tickers('Pharmaceuticals')"
   ]
  },
  {
   "cell_type": "code",
   "execution_count": null,
   "metadata": {},
   "outputs": [],
   "source": []
  }
 ],
 "metadata": {
  "kernelspec": {
   "display_name": "Python 3",
   "language": "python",
   "name": "python3"
  },
  "language_info": {
   "codemirror_mode": {
    "name": "ipython",
    "version": 3
   },
   "file_extension": ".py",
   "mimetype": "text/x-python",
   "name": "python",
   "nbconvert_exporter": "python",
   "pygments_lexer": "ipython3",
   "version": "3.8.3"
  }
 },
 "nbformat": 4,
 "nbformat_minor": 4
}
