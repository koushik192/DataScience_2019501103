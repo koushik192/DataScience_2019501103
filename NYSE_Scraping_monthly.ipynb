{
 "cells": [
  {
   "cell_type": "code",
   "execution_count": 1,
   "metadata": {},
   "outputs": [
    {
     "name": "stderr",
     "output_type": "stream",
     "text": [
      "\n",
      "\n",
      "====== WebDriver manager ======\n",
      "Current google-chrome version is 90.0.4430\n",
      "Get LATEST driver version for 90.0.4430\n",
      "Driver [/home/koushik/.wdm/drivers/chromedriver/linux64/90.0.4430.24/chromedriver] found in cache\n"
     ]
    },
    {
     "name": "stdout",
     "output_type": "stream",
     "text": [
      "505\n",
      "CIGLWCLXDHI\n",
      "BAABCBAXCMACOFAALALK\n",
      "\n",
      "AZOALL\n",
      "\n",
      "\n",
      "MMMAMDCFANET\n",
      "CBOE\n",
      "\n",
      "\n",
      "\n",
      "AONBR\n",
      "\n",
      "\n",
      "\n",
      "\n",
      "\n",
      "\n",
      "\n",
      "\n"
     ]
    },
    {
     "name": "stderr",
     "output_type": "stream",
     "text": [
      "b'Skipping line 4: expected 1 fields, saw 2\\n'\n"
     ]
    },
    {
     "name": "stdout",
     "output_type": "stream",
     "text": [
      "AAPAJG\n",
      "AOSGOOGLDHRAME\n",
      "\n",
      "CBREAEP\n",
      "ABTBKNG\n",
      "\n",
      "CAHCTVACAGCINFCMESCHWBDXAVB\n",
      "\n",
      "\n",
      "\n",
      "\n",
      "\n",
      "\n",
      "\n",
      "\n",
      "\n",
      "BF.B\n",
      "\n",
      "\n",
      "ALB\n",
      "GOOG\n",
      "CTAS\n",
      "AIZAES\n",
      "\n",
      "AVYKMXCOPAMGN\n",
      "CMSCOSTCHRW\n",
      "\n",
      "CDWABBV\n",
      "\n",
      "\n",
      "AREAXPBRK.B\n",
      "\n",
      "\n",
      "APADRI\n",
      "\n",
      "BWACHTR\n",
      "\n",
      "\n",
      "\n",
      "\n",
      "MO\n",
      "T\n",
      "ABMDCCLAPH\n",
      "\n",
      "BBYAIG\n",
      "AAPL\n",
      "CVX\n",
      "KO\n",
      "\n",
      "\n",
      "COGALXNBKRAFL\n",
      "\n",
      "\n",
      "\n",
      "CCICE\n",
      "\n",
      "BXP\n",
      "DVA\n",
      "CARR\n",
      "AMZN\n",
      "ADI\n",
      "ACNALGN\n",
      "\n",
      "BLLCMG\n",
      "\n",
      "A\n",
      "CNC\n",
      "CSX\n",
      "AMATAMT\n",
      "\n",
      "BSX\n",
      "CTSH\n",
      "BIO\n",
      "CSCO\n",
      "ED\n",
      "DE\n",
      "CDNS\n",
      "ALLECTLT\n",
      "\n",
      "AMCR\n",
      "ANSS\n",
      "CBAPDAWKAPTV\n",
      "\n",
      "\n",
      "\n",
      "CNP\n",
      "BAC\n",
      "CMI\n",
      "BIIBBMY\n",
      "\n",
      "CL\n",
      "C\n",
      "ATVI\n",
      "STZDALCZR\n",
      "\n",
      "\n",
      "ATO\n",
      "CAT\n",
      "ANTM\n",
      "ADMAMPLNTCHD\n",
      "\n",
      "\n",
      "AEE\n",
      "\n",
      "AKAM\n",
      "CMCSA\n",
      "CERN\n",
      "CVS\n",
      "BK\n",
      "AVGO\n",
      "BLK\n",
      "COO\n",
      "ADBE\n",
      "CPB\n",
      "XRAY\n",
      "ADSK\n",
      "DVN\n",
      "DISH\n",
      "DTE\n",
      "EBAY\n",
      "ETR\n",
      "ETSY\n",
      "EXR\n",
      "FIS\n",
      "FMC\n",
      "BENGE\n",
      "\n",
      "CFGGS\n",
      "\n",
      "PEAK\n",
      "HOLX\n",
      "HUMCPRT\n",
      "\n",
      "ILMN\n",
      "ADP\n",
      "DUK\n",
      "EVRGDXCM\n",
      "\n",
      "XOM\n",
      "DG\n",
      "ECL\n",
      "CTXS\n",
      "FFITB\n",
      "\n",
      "FCX\n",
      "GWWGISHSICEOG\n",
      "\n",
      "\n",
      "\n",
      "HD\n",
      "IPG\n",
      "HBAN\n",
      "INCYIRM\n",
      "\n",
      "FANGDRE\n",
      "\n",
      "ESDLTR\n",
      "\n",
      "JPM\n",
      "FFIVEIX\n",
      "\n",
      "KIM\n",
      "GPS\n",
      "HSYFE\n",
      "\n",
      "HALFTNT\n",
      "\n",
      "EFX\n"
     ]
    },
    {
     "name": "stderr",
     "output_type": "stream",
     "text": [
      "b'Skipping line 4: expected 1 fields, saw 2\\n'\n"
     ]
    },
    {
     "name": "stdout",
     "output_type": "stream",
     "text": [
      "GM\n"
     ]
    },
    {
     "name": "stderr",
     "output_type": "stream",
     "text": [
      "b'Skipping line 4: expected 1 fields, saw 2\\n'\n"
     ]
    },
    {
     "name": "stdout",
     "output_type": "stream",
     "text": [
      "HON\n"
     ]
    },
    {
     "name": "stderr",
     "output_type": "stream",
     "text": [
      "b'Skipping line 4: expected 1 fields, saw 2\\n'b'Skipping line 4: expected 1 fields, saw 2\\n'b'Skipping line 4: expected 1 fields, saw 2\\n'b'Skipping line 4: expected 1 fields, saw 2\\n'\n",
      "\n",
      "\n",
      "\n"
     ]
    },
    {
     "name": "stdout",
     "output_type": "stream",
     "text": [
      "JKHY\n",
      "IR\n",
      "HII\n",
      "IFF\n"
     ]
    },
    {
     "name": "stderr",
     "output_type": "stream",
     "text": [
      "b'Skipping line 4: expected 1 fields, saw 2\\n'\n",
      "b'Skipping line 4: expected 1 fields, saw 2\\n'\n",
      "b'Skipping line 4: expected 1 fields, saw 2\\n'b'Skipping line 4: expected 1 fields, saw 2\\n'b'Skipping line 4: expected 1 fields, saw 2\\n'\n"
     ]
    },
    {
     "name": "stdout",
     "output_type": "stream",
     "text": [
      "DLR"
     ]
    },
    {
     "name": "stderr",
     "output_type": "stream",
     "text": [
      "\n",
      "\n",
      "b'Skipping line 4: expected 1 fields, saw 2\\n'\n"
     ]
    },
    {
     "name": "stdout",
     "output_type": "stream",
     "text": [
      "\n"
     ]
    },
    {
     "name": "stderr",
     "output_type": "stream",
     "text": [
      "b'Skipping line 4: expected 1 fields, saw 2\\n'"
     ]
    },
    {
     "name": "stdout",
     "output_type": "stream",
     "text": [
      "FB"
     ]
    },
    {
     "name": "stderr",
     "output_type": "stream",
     "text": [
      "\n"
     ]
    },
    {
     "name": "stdout",
     "output_type": "stream",
     "text": [
      "REDDKMIJNPR"
     ]
    },
    {
     "name": "stderr",
     "output_type": "stream",
     "text": [
      "b'Skipping line 4: expected 1 fields, saw 2\\n'"
     ]
    },
    {
     "name": "stdout",
     "output_type": "stream",
     "text": [
      "GRMN\n",
      "\n",
      "\n"
     ]
    },
    {
     "name": "stderr",
     "output_type": "stream",
     "text": [
      "b'Skipping line 4: expected 1 fields, saw 2\\n'b'Skipping line 4: expected 1 fields, saw 2\\n'b'Skipping line 4: expected 1 fields, saw 2\\n'"
     ]
    },
    {
     "name": "stdout",
     "output_type": "stream",
     "text": [
      "\n"
     ]
    },
    {
     "name": "stderr",
     "output_type": "stream",
     "text": [
      "b'Skipping line 4: expected 1 fields, saw 2\\n'b'Skipping line 4: expected 1 fields, saw 2\\n'b'Skipping line 4: expected 1 fields, saw 2\\n'\n"
     ]
    },
    {
     "name": "stdout",
     "output_type": "stream",
     "text": [
      "\n"
     ]
    },
    {
     "name": "stderr",
     "output_type": "stream",
     "text": [
      "\n",
      "b'Skipping line 4: expected 1 fields, saw 2\\n'\n",
      "\n",
      "b'Skipping line 4: expected 1 fields, saw 2\\n'\n"
     ]
    },
    {
     "name": "stdout",
     "output_type": "stream",
     "text": [
      "EWHBI\n",
      "\n"
     ]
    },
    {
     "name": "stderr",
     "output_type": "stream",
     "text": [
      "\n",
      "\n"
     ]
    },
    {
     "name": "stdout",
     "output_type": "stream",
     "text": [
      "\n"
     ]
    },
    {
     "name": "stderr",
     "output_type": "stream",
     "text": [
      "\n",
      "\n"
     ]
    },
    {
     "name": "stdout",
     "output_type": "stream",
     "text": [
      "D"
     ]
    },
    {
     "name": "stderr",
     "output_type": "stream",
     "text": [
      "b'Skipping line 4: expected 1 fields, saw 2\\n'\n"
     ]
    },
    {
     "name": "stdout",
     "output_type": "stream",
     "text": [
      "FRCHRL\n"
     ]
    },
    {
     "name": "stderr",
     "output_type": "stream",
     "text": [
      "b'Skipping line 4: expected 1 fields, saw 2\\n'"
     ]
    },
    {
     "name": "stdout",
     "output_type": "stream",
     "text": [
      "HES"
     ]
    },
    {
     "name": "stderr",
     "output_type": "stream",
     "text": [
      "\n"
     ]
    },
    {
     "name": "stdout",
     "output_type": "stream",
     "text": [
      "GPC\n"
     ]
    },
    {
     "name": "stderr",
     "output_type": "stream",
     "text": [
      "b'Skipping line 4: expected 1 fields, saw 2\\n'"
     ]
    },
    {
     "name": "stdout",
     "output_type": "stream",
     "text": [
      "\n",
      "\n"
     ]
    },
    {
     "name": "stderr",
     "output_type": "stream",
     "text": [
      "b'Skipping line 4: expected 1 fields, saw 2\\n'"
     ]
    },
    {
     "name": "stdout",
     "output_type": "stream",
     "text": [
      "EQIX\n"
     ]
    },
    {
     "name": "stderr",
     "output_type": "stream",
     "text": [
      "\n"
     ]
    },
    {
     "name": "stdout",
     "output_type": "stream",
     "text": [
      "FTV"
     ]
    },
    {
     "name": "stderr",
     "output_type": "stream",
     "text": [
      "\n"
     ]
    },
    {
     "name": "stdout",
     "output_type": "stream",
     "text": [
      "\n"
     ]
    },
    {
     "name": "stderr",
     "output_type": "stream",
     "text": [
      "b'Skipping line 4: expected 1 fields, saw 2\\n'"
     ]
    },
    {
     "name": "stdout",
     "output_type": "stream",
     "text": [
      "J"
     ]
    },
    {
     "name": "stderr",
     "output_type": "stream",
     "text": [
      "\n"
     ]
    },
    {
     "name": "stdout",
     "output_type": "stream",
     "text": [
      "\n",
      "\n",
      "INTU\n"
     ]
    },
    {
     "name": "stderr",
     "output_type": "stream",
     "text": [
      "b'Skipping line 4: expected 1 fields, saw 2\\n'\n"
     ]
    },
    {
     "name": "stdout",
     "output_type": "stream",
     "text": [
      "INTCIEX"
     ]
    },
    {
     "name": "stderr",
     "output_type": "stream",
     "text": [
      "b'Skipping line 4: expected 1 fields, saw 2\\n'b'Skipping line 4: expected 1 fields, saw 2\\n'b'Skipping line 4: expected 1 fields, saw 2\\n'"
     ]
    },
    {
     "name": "stdout",
     "output_type": "stream",
     "text": [
      "DFS"
     ]
    },
    {
     "name": "stderr",
     "output_type": "stream",
     "text": [
      "\n"
     ]
    },
    {
     "name": "stdout",
     "output_type": "stream",
     "text": [
      "\n"
     ]
    },
    {
     "name": "stderr",
     "output_type": "stream",
     "text": [
      "\n"
     ]
    },
    {
     "name": "stdout",
     "output_type": "stream",
     "text": [
      "DXC\n"
     ]
    },
    {
     "name": "stderr",
     "output_type": "stream",
     "text": [
      "\n"
     ]
    },
    {
     "name": "stdout",
     "output_type": "stream",
     "text": [
      "EXC\n",
      "\n",
      "KSU\n",
      "FAST\n",
      "\n"
     ]
    },
    {
     "name": "stderr",
     "output_type": "stream",
     "text": [
      "b'Skipping line 4: expected 1 fields, saw 2\\n'\n"
     ]
    },
    {
     "name": "stdout",
     "output_type": "stream",
     "text": [
      "KLAC\n"
     ]
    },
    {
     "name": "stderr",
     "output_type": "stream",
     "text": [
      "b'Skipping line 4: expected 1 fields, saw 2\\n'b'Skipping line 4: expected 1 fields, saw 2\\n'b'Skipping line 4: expected 1 fields, saw 2\\n'\n",
      "\n",
      "b'Skipping line 4: expected 1 fields, saw 2\\n'\n",
      "b'Skipping line 4: expected 1 fields, saw 2\\n'"
     ]
    },
    {
     "name": "stdout",
     "output_type": "stream",
     "text": [
      "EA"
     ]
    },
    {
     "name": "stderr",
     "output_type": "stream",
     "text": [
      "\n"
     ]
    },
    {
     "name": "stdout",
     "output_type": "stream",
     "text": [
      "HIG"
     ]
    },
    {
     "name": "stderr",
     "output_type": "stream",
     "text": [
      "b'Skipping line 4: expected 1 fields, saw 2\\n'\n",
      "\n"
     ]
    },
    {
     "name": "stdout",
     "output_type": "stream",
     "text": [
      "\n"
     ]
    },
    {
     "name": "stderr",
     "output_type": "stream",
     "text": [
      "\n",
      "b'Skipping line 4: expected 1 fields, saw 2\\n'b'Skipping line 4: expected 1 fields, saw 2\\n'"
     ]
    },
    {
     "name": "stdout",
     "output_type": "stream",
     "text": [
      "\n",
      "DPZIT\n",
      "FISV"
     ]
    },
    {
     "name": "stderr",
     "output_type": "stream",
     "text": [
      "\n"
     ]
    },
    {
     "name": "stdout",
     "output_type": "stream",
     "text": [
      "\n",
      "JBHT\n",
      "\n",
      "EQR\n",
      "HST\n"
     ]
    },
    {
     "name": "stderr",
     "output_type": "stream",
     "text": [
      "b'Skipping line 4: expected 1 fields, saw 2\\n'b'Skipping line 4: expected 1 fields, saw 2\\n'b'Skipping line 4: expected 1 fields, saw 2\\n'\n",
      "\n",
      "b'Skipping line 4: expected 1 fields, saw 2\\n'"
     ]
    },
    {
     "name": "stdout",
     "output_type": "stream",
     "text": [
      "GILD"
     ]
    },
    {
     "name": "stderr",
     "output_type": "stream",
     "text": [
      "\n"
     ]
    },
    {
     "name": "stdout",
     "output_type": "stream",
     "text": [
      "HPE"
     ]
    },
    {
     "name": "stderr",
     "output_type": "stream",
     "text": [
      "\n"
     ]
    },
    {
     "name": "stdout",
     "output_type": "stream",
     "text": [
      "\n",
      "\n",
      "ISRGFBHS"
     ]
    },
    {
     "name": "stderr",
     "output_type": "stream",
     "text": [
      "b'Skipping line 4: expected 1 fields, saw 2\\n'b'Skipping line 4: expected 1 fields, saw 2\\n'b'Skipping line 4: expected 1 fields, saw 2\\n'"
     ]
    },
    {
     "name": "stdout",
     "output_type": "stream",
     "text": [
      "\n",
      "\n"
     ]
    },
    {
     "name": "stderr",
     "output_type": "stream",
     "text": [
      "b'Skipping line 4: expected 1 fields, saw 2\\n'\n",
      "\n",
      "\n",
      "\n",
      "b'Skipping line 4: expected 1 fields, saw 2\\n'b'Skipping line 4: expected 1 fields, saw 2\\n'b'Skipping line 4: expected 1 fields, saw 2\\n'\n",
      "\n"
     ]
    },
    {
     "name": "stdout",
     "output_type": "stream",
     "text": [
      "EXPE"
     ]
    },
    {
     "name": "stderr",
     "output_type": "stream",
     "text": [
      "\n",
      "b'Skipping line 4: expected 1 fields, saw 2\\n'b'Skipping line 4: expected 1 fields, saw 2\\n'"
     ]
    },
    {
     "name": "stdout",
     "output_type": "stream",
     "text": [
      "ICE"
     ]
    },
    {
     "name": "stderr",
     "output_type": "stream",
     "text": [
      "\n"
     ]
    },
    {
     "name": "stdout",
     "output_type": "stream",
     "text": [
      "DISCA"
     ]
    },
    {
     "name": "stderr",
     "output_type": "stream",
     "text": [
      "b'Skipping line 4: expected 1 fields, saw 2\\n'"
     ]
    },
    {
     "name": "stdout",
     "output_type": "stream",
     "text": [
      "IDXX\n",
      "K\n",
      "\n"
     ]
    },
    {
     "name": "stderr",
     "output_type": "stream",
     "text": [
      "\n"
     ]
    },
    {
     "name": "stdout",
     "output_type": "stream",
     "text": [
      "\n",
      "EMN"
     ]
    },
    {
     "name": "stderr",
     "output_type": "stream",
     "text": [
      "\n"
     ]
    },
    {
     "name": "stdout",
     "output_type": "stream",
     "text": [
      "\n",
      "FRT\n"
     ]
    },
    {
     "name": "stderr",
     "output_type": "stream",
     "text": [
      "b'Skipping line 4: expected 1 fields, saw 2\\n'\n"
     ]
    },
    {
     "name": "stdout",
     "output_type": "stream",
     "text": [
      "\n"
     ]
    },
    {
     "name": "stderr",
     "output_type": "stream",
     "text": [
      "b'Skipping line 4: expected 1 fields, saw 2\\n'"
     ]
    },
    {
     "name": "stdout",
     "output_type": "stream",
     "text": [
      "SJMHAS"
     ]
    },
    {
     "name": "stderr",
     "output_type": "stream",
     "text": [
      "\n"
     ]
    },
    {
     "name": "stdout",
     "output_type": "stream",
     "text": [
      "KHC\n"
     ]
    },
    {
     "name": "stderr",
     "output_type": "stream",
     "text": [
      "b'Skipping line 4: expected 1 fields, saw 2\\n'"
     ]
    },
    {
     "name": "stdout",
     "output_type": "stream",
     "text": [
      "\n",
      "\n"
     ]
    },
    {
     "name": "stderr",
     "output_type": "stream",
     "text": [
      "b'Skipping line 4: expected 1 fields, saw 2\\n'\n",
      "\n"
     ]
    },
    {
     "name": "stdout",
     "output_type": "stream",
     "text": [
      "EMR"
     ]
    },
    {
     "name": "stderr",
     "output_type": "stream",
     "text": [
      "b'Skipping line 4: expected 1 fields, saw 2\\n'"
     ]
    },
    {
     "name": "stdout",
     "output_type": "stream",
     "text": [
      "\n"
     ]
    },
    {
     "name": "stderr",
     "output_type": "stream",
     "text": [
      "\n",
      "b'Skipping line 4: expected 1 fields, saw 2\\n'\n"
     ]
    },
    {
     "name": "stdout",
     "output_type": "stream",
     "text": [
      "ESS\n",
      "GNRCFLTDOV\n",
      "IVZ\n",
      "\n",
      "\n"
     ]
    },
    {
     "name": "stderr",
     "output_type": "stream",
     "text": [
      "b'Skipping line 4: expected 1 fields, saw 2\\n'b'Skipping line 4: expected 1 fields, saw 2\\n'\n",
      "\n",
      "b'Skipping line 4: expected 1 fields, saw 2\\n'\n",
      "b'Skipping line 4: expected 1 fields, saw 2\\n'"
     ]
    },
    {
     "name": "stdout",
     "output_type": "stream",
     "text": [
      "HLTFOXA\n",
      "GL"
     ]
    },
    {
     "name": "stderr",
     "output_type": "stream",
     "text": [
      "b'Skipping line 4: expected 1 fields, saw 2\\n'b'Skipping line 4: expected 1 fields, saw 2\\n'\n",
      "\n"
     ]
    },
    {
     "name": "stdout",
     "output_type": "stream",
     "text": [
      "\n"
     ]
    },
    {
     "name": "stderr",
     "output_type": "stream",
     "text": [
      "\n"
     ]
    },
    {
     "name": "stdout",
     "output_type": "stream",
     "text": [
      "HWM"
     ]
    },
    {
     "name": "stderr",
     "output_type": "stream",
     "text": [
      "b'Skipping line 4: expected 1 fields, saw 2\\n'"
     ]
    },
    {
     "name": "stdout",
     "output_type": "stream",
     "text": [
      "\n",
      "\n"
     ]
    },
    {
     "name": "stderr",
     "output_type": "stream",
     "text": [
      "\n",
      "b'Skipping line 4: expected 1 fields, saw 2\\n'\n"
     ]
    },
    {
     "name": "stdout",
     "output_type": "stream",
     "text": [
      "DISCK"
     ]
    },
    {
     "name": "stderr",
     "output_type": "stream",
     "text": [
      "b'Skipping line 4: expected 1 fields, saw 2\\n'"
     ]
    },
    {
     "name": "stdout",
     "output_type": "stream",
     "text": [
      "\n"
     ]
    },
    {
     "name": "stderr",
     "output_type": "stream",
     "text": [
      "b'Skipping line 4: expected 1 fields, saw 2\\n'"
     ]
    },
    {
     "name": "stdout",
     "output_type": "stream",
     "text": [
      "INFO"
     ]
    },
    {
     "name": "stderr",
     "output_type": "stream",
     "text": [
      "\n",
      "b'Skipping line 4: expected 1 fields, saw 2\\n'b'Skipping line 4: expected 1 fields, saw 2\\n'\n",
      "b'Skipping line 4: expected 1 fields, saw 2\\n'\n",
      "b'Skipping line 4: expected 1 fields, saw 2\\n'\n"
     ]
    },
    {
     "name": "stdout",
     "output_type": "stream",
     "text": [
      "\n"
     ]
    },
    {
     "name": "stderr",
     "output_type": "stream",
     "text": [
      "\n",
      "\n"
     ]
    },
    {
     "name": "stdout",
     "output_type": "stream",
     "text": [
      "KEY\n"
     ]
    },
    {
     "name": "stderr",
     "output_type": "stream",
     "text": [
      "b'Skipping line 4: expected 1 fields, saw 2\\n'"
     ]
    },
    {
     "name": "stdout",
     "output_type": "stream",
     "text": [
      "IBM"
     ]
    },
    {
     "name": "stderr",
     "output_type": "stream",
     "text": [
      "\n"
     ]
    },
    {
     "name": "stdout",
     "output_type": "stream",
     "text": [
      "\n",
      "ETN\n",
      "EXPDJNJKRFDX\n",
      "\n",
      "\n",
      "\n",
      "HCA\n",
      "ENPH"
     ]
    },
    {
     "name": "stderr",
     "output_type": "stream",
     "text": [
      "b'Skipping line 4: expected 1 fields, saw 2\\n'"
     ]
    },
    {
     "name": "stdout",
     "output_type": "stream",
     "text": [
      "\n"
     ]
    },
    {
     "name": "stderr",
     "output_type": "stream",
     "text": [
      "b'Skipping line 4: expected 1 fields, saw 2\\n'b'Skipping line 4: expected 1 fields, saw 2\\n'\n",
      "b'Skipping line 4: expected 1 fields, saw 2\\n'\n",
      "b'Skipping line 4: expected 1 fields, saw 2\\n'b'Skipping line 4: expected 1 fields, saw 2\\n'\n"
     ]
    },
    {
     "name": "stdout",
     "output_type": "stream",
     "text": [
      "EL"
     ]
    },
    {
     "name": "stderr",
     "output_type": "stream",
     "text": [
      "\n"
     ]
    },
    {
     "name": "stdout",
     "output_type": "stream",
     "text": [
      "FLIR"
     ]
    },
    {
     "name": "stderr",
     "output_type": "stream",
     "text": [
      "b'Skipping line 4: expected 1 fields, saw 2\\n'\n"
     ]
    },
    {
     "name": "stdout",
     "output_type": "stream",
     "text": [
      "IPGP\n"
     ]
    },
    {
     "name": "stderr",
     "output_type": "stream",
     "text": [
      "\n"
     ]
    },
    {
     "name": "stdout",
     "output_type": "stream",
     "text": [
      "\n"
     ]
    },
    {
     "name": "stderr",
     "output_type": "stream",
     "text": [
      "\n"
     ]
    },
    {
     "name": "stdout",
     "output_type": "stream",
     "text": [
      "\n",
      "DOW\n",
      "GPN\n",
      "GD\n",
      "HFC"
     ]
    },
    {
     "name": "stderr",
     "output_type": "stream",
     "text": [
      "b'Skipping line 4: expected 1 fields, saw 2\\n'b'Skipping line 4: expected 1 fields, saw 2\\n'\n"
     ]
    },
    {
     "name": "stdout",
     "output_type": "stream",
     "text": [
      "\n",
      "HPQ"
     ]
    },
    {
     "name": "stderr",
     "output_type": "stream",
     "text": [
      "\n"
     ]
    },
    {
     "name": "stdout",
     "output_type": "stream",
     "text": [
      "\n"
     ]
    },
    {
     "name": "stderr",
     "output_type": "stream",
     "text": [
      "b'Skipping line 4: expected 1 fields, saw 2\\n'\n"
     ]
    },
    {
     "name": "stdout",
     "output_type": "stream",
     "text": [
      "LHFOX\n",
      "\n"
     ]
    },
    {
     "name": "stderr",
     "output_type": "stream",
     "text": [
      "b'Skipping line 4: expected 1 fields, saw 2\\n'\n",
      "b'Skipping line 4: expected 1 fields, saw 2\\n'\n",
      "b'Skipping line 4: expected 1 fields, saw 2\\n'"
     ]
    },
    {
     "name": "stdout",
     "output_type": "stream",
     "text": [
      "IP"
     ]
    },
    {
     "name": "stderr",
     "output_type": "stream",
     "text": [
      "b'Skipping line 4: expected 1 fields, saw 2\\n'\n",
      "\n"
     ]
    },
    {
     "name": "stdout",
     "output_type": "stream",
     "text": [
      "\n"
     ]
    },
    {
     "name": "stderr",
     "output_type": "stream",
     "text": [
      "b'Skipping line 4: expected 1 fields, saw 2\\n'b'Skipping line 4: expected 1 fields, saw 2\\n'b'Skipping line 4: expected 1 fields, saw 2\\n'b'Skipping line 4: expected 1 fields, saw 2\\n'\n"
     ]
    },
    {
     "name": "stdout",
     "output_type": "stream",
     "text": [
      "LLY"
     ]
    },
    {
     "name": "stderr",
     "output_type": "stream",
     "text": [
      "\n"
     ]
    },
    {
     "name": "stdout",
     "output_type": "stream",
     "text": [
      "LOW\n",
      "ITW"
     ]
    },
    {
     "name": "stderr",
     "output_type": "stream",
     "text": [
      "\n",
      "b'Skipping line 4: expected 1 fields, saw 2\\n'"
     ]
    },
    {
     "name": "stdout",
     "output_type": "stream",
     "text": [
      "\n"
     ]
    },
    {
     "name": "stderr",
     "output_type": "stream",
     "text": [
      "\n",
      "b'Skipping line 4: expected 1 fields, saw 2\\n'\n",
      "\n",
      "b'Skipping line 4: expected 1 fields, saw 2\\n'"
     ]
    },
    {
     "name": "stdout",
     "output_type": "stream",
     "text": [
      "\n"
     ]
    },
    {
     "name": "stderr",
     "output_type": "stream",
     "text": [
      "\n",
      "b'Skipping line 4: expected 1 fields, saw 2\\n'\n",
      "b'Skipping line 4: expected 1 fields, saw 2\\n'b'Skipping line 4: expected 1 fields, saw 2\\n'\n"
     ]
    },
    {
     "name": "stdout",
     "output_type": "stream",
     "text": [
      "LB"
     ]
    },
    {
     "name": "stderr",
     "output_type": "stream",
     "text": [
      "b'Skipping line 4: expected 1 fields, saw 2\\n'b'Skipping line 4: expected 1 fields, saw 2\\n'b'Skipping line 4: expected 1 fields, saw 2\\n'"
     ]
    },
    {
     "name": "stdout",
     "output_type": "stream",
     "text": [
      "MAR\n"
     ]
    },
    {
     "name": "stderr",
     "output_type": "stream",
     "text": [
      "\n",
      "\n",
      "\n"
     ]
    },
    {
     "name": "stdout",
     "output_type": "stream",
     "text": [
      "\n"
     ]
    },
    {
     "name": "stderr",
     "output_type": "stream",
     "text": [
      "\n",
      "b'Skipping line 4: expected 1 fields, saw 2\\n'"
     ]
    },
    {
     "name": "stdout",
     "output_type": "stream",
     "text": [
      "JCIMCD"
     ]
    },
    {
     "name": "stderr",
     "output_type": "stream",
     "text": [
      "\n"
     ]
    },
    {
     "name": "stdout",
     "output_type": "stream",
     "text": [
      "\n",
      "MCHPMPWR\n",
      "\n",
      "NDAQKEYS\n",
      "\n",
      "NEE\n",
      "OTIS\n",
      "PENN"
     ]
    },
    {
     "name": "stderr",
     "output_type": "stream",
     "text": [
      "b'Skipping line 4: expected 1 fields, saw 2\\n'"
     ]
    },
    {
     "name": "stdout",
     "output_type": "stream",
     "text": [
      "IQVNXPI"
     ]
    },
    {
     "name": "stderr",
     "output_type": "stream",
     "text": [
      "b'Skipping line 4: expected 1 fields, saw 2\\n'"
     ]
    },
    {
     "name": "stdout",
     "output_type": "stream",
     "text": [
      "NLOK"
     ]
    },
    {
     "name": "stderr",
     "output_type": "stream",
     "text": [
      "b'Skipping line 4: expected 1 fields, saw 2\\n'"
     ]
    },
    {
     "name": "stdout",
     "output_type": "stream",
     "text": [
      "\n",
      "\n"
     ]
    },
    {
     "name": "stderr",
     "output_type": "stream",
     "text": [
      "b'Skipping line 4: expected 1 fields, saw 2\\n'"
     ]
    },
    {
     "name": "stdout",
     "output_type": "stream",
     "text": [
      "\n"
     ]
    },
    {
     "name": "stderr",
     "output_type": "stream",
     "text": [
      "\n"
     ]
    },
    {
     "name": "stdout",
     "output_type": "stream",
     "text": [
      "\n"
     ]
    },
    {
     "name": "stderr",
     "output_type": "stream",
     "text": [
      "\n"
     ]
    },
    {
     "name": "stdout",
     "output_type": "stream",
     "text": [
      "\n"
     ]
    },
    {
     "name": "stderr",
     "output_type": "stream",
     "text": [
      "b'Skipping line 4: expected 1 fields, saw 2\\n'\n"
     ]
    },
    {
     "name": "stdout",
     "output_type": "stream",
     "text": [
      "LRCX"
     ]
    },
    {
     "name": "stderr",
     "output_type": "stream",
     "text": [
      "\n",
      "\n"
     ]
    },
    {
     "name": "stdout",
     "output_type": "stream",
     "text": [
      "\n",
      "LUMNLNCPMPPL\n",
      "\n",
      "\n"
     ]
    },
    {
     "name": "stderr",
     "output_type": "stream",
     "text": [
      "b'Skipping line 4: expected 1 fields, saw 2\\n'"
     ]
    },
    {
     "name": "stdout",
     "output_type": "stream",
     "text": [
      "\n"
     ]
    },
    {
     "name": "stderr",
     "output_type": "stream",
     "text": [
      "\n"
     ]
    },
    {
     "name": "stdout",
     "output_type": "stream",
     "text": [
      "PEG\n"
     ]
    },
    {
     "name": "stderr",
     "output_type": "stream",
     "text": [
      "b'Skipping line 4: expected 1 fields, saw 2\\n'b'Skipping line 4: expected 1 fields, saw 2\\n'\n"
     ]
    },
    {
     "name": "stdout",
     "output_type": "stream",
     "text": [
      "MMC"
     ]
    },
    {
     "name": "stderr",
     "output_type": "stream",
     "text": [
      "\n"
     ]
    },
    {
     "name": "stdout",
     "output_type": "stream",
     "text": [
      "\n",
      "LHX\n"
     ]
    },
    {
     "name": "stderr",
     "output_type": "stream",
     "text": [
      "b'Skipping line 4: expected 1 fields, saw 2\\n'\n",
      "b'Skipping line 4: expected 1 fields, saw 2\\n'b'Skipping line 4: expected 1 fields, saw 2\\n'b'Skipping line 4: expected 1 fields, saw 2\\n'\n",
      "\n",
      "\n",
      "b'Skipping line 4: expected 1 fields, saw 2\\n'"
     ]
    },
    {
     "name": "stdout",
     "output_type": "stream",
     "text": [
      "MNST"
     ]
    },
    {
     "name": "stderr",
     "output_type": "stream",
     "text": [
      "\n"
     ]
    },
    {
     "name": "stdout",
     "output_type": "stream",
     "text": [
      "\n"
     ]
    },
    {
     "name": "stderr",
     "output_type": "stream",
     "text": [
      "b'Skipping line 4: expected 1 fields, saw 2\\n'b'Skipping line 4: expected 1 fields, saw 2\\n'\n",
      "\n",
      "b'Skipping line 4: expected 1 fields, saw 2\\n'"
     ]
    },
    {
     "name": "stdout",
     "output_type": "stream",
     "text": [
      "DGX"
     ]
    },
    {
     "name": "stderr",
     "output_type": "stream",
     "text": [
      "b'Skipping line 4: expected 1 fields, saw 2\\n'"
     ]
    },
    {
     "name": "stdout",
     "output_type": "stream",
     "text": [
      "\n"
     ]
    },
    {
     "name": "stderr",
     "output_type": "stream",
     "text": [
      "\n"
     ]
    },
    {
     "name": "stdout",
     "output_type": "stream",
     "text": [
      "KMB"
     ]
    },
    {
     "name": "stderr",
     "output_type": "stream",
     "text": [
      "b'Skipping line 4: expected 1 fields, saw 2\\n'"
     ]
    },
    {
     "name": "stdout",
     "output_type": "stream",
     "text": [
      "MU\n",
      "NTAP"
     ]
    },
    {
     "name": "stderr",
     "output_type": "stream",
     "text": [
      "\n"
     ]
    },
    {
     "name": "stdout",
     "output_type": "stream",
     "text": [
      "MCK\n"
     ]
    },
    {
     "name": "stderr",
     "output_type": "stream",
     "text": [
      "\n",
      "b'Skipping line 4: expected 1 fields, saw 2\\n'"
     ]
    },
    {
     "name": "stdout",
     "output_type": "stream",
     "text": [
      "PCAR\n"
     ]
    },
    {
     "name": "stderr",
     "output_type": "stream",
     "text": [
      "b'Skipping line 4: expected 1 fields, saw 2\\n'"
     ]
    },
    {
     "name": "stdout",
     "output_type": "stream",
     "text": [
      "\n"
     ]
    },
    {
     "name": "stderr",
     "output_type": "stream",
     "text": [
      "b'Skipping line 4: expected 1 fields, saw 2\\n'b'Skipping line 4: expected 1 fields, saw 2\\n'\n",
      "\n",
      "\n",
      "\n",
      "b'Skipping line 4: expected 1 fields, saw 2\\n'"
     ]
    },
    {
     "name": "stdout",
     "output_type": "stream",
     "text": [
      "\n"
     ]
    },
    {
     "name": "stderr",
     "output_type": "stream",
     "text": [
      "\n"
     ]
    },
    {
     "name": "stdout",
     "output_type": "stream",
     "text": [
      "NLSNORLY\n"
     ]
    },
    {
     "name": "stderr",
     "output_type": "stream",
     "text": [
      "b'Skipping line 4: expected 1 fields, saw 2\\n'"
     ]
    },
    {
     "name": "stdout",
     "output_type": "stream",
     "text": [
      "\n"
     ]
    },
    {
     "name": "stderr",
     "output_type": "stream",
     "text": [
      "\n"
     ]
    },
    {
     "name": "stdout",
     "output_type": "stream",
     "text": [
      "NCLH\n",
      "MLMPSX\n",
      "PFGPSALW\n",
      "\n",
      "PNR\n",
      "\n",
      "\n"
     ]
    },
    {
     "name": "stderr",
     "output_type": "stream",
     "text": [
      "b'Skipping line 4: expected 1 fields, saw 2\\n'\n"
     ]
    },
    {
     "name": "stdout",
     "output_type": "stream",
     "text": [
      "MCO\n"
     ]
    },
    {
     "name": "stderr",
     "output_type": "stream",
     "text": [
      "b'Skipping line 4: expected 1 fields, saw 2\\n'\n",
      "b'Skipping line 4: expected 1 fields, saw 2\\n'b'Skipping line 4: expected 1 fields, saw 2\\n'\n"
     ]
    },
    {
     "name": "stdout",
     "output_type": "stream",
     "text": [
      "RF\n"
     ]
    },
    {
     "name": "stderr",
     "output_type": "stream",
     "text": [
      "\n"
     ]
    },
    {
     "name": "stdout",
     "output_type": "stream",
     "text": [
      "ROST\n"
     ]
    },
    {
     "name": "stderr",
     "output_type": "stream",
     "text": [
      "b'Skipping line 4: expected 1 fields, saw 2\\n'"
     ]
    },
    {
     "name": "stdout",
     "output_type": "stream",
     "text": [
      "NFLX"
     ]
    },
    {
     "name": "stderr",
     "output_type": "stream",
     "text": [
      "\n"
     ]
    },
    {
     "name": "stdout",
     "output_type": "stream",
     "text": [
      "\n",
      "MDT\n"
     ]
    },
    {
     "name": "stderr",
     "output_type": "stream",
     "text": [
      "b'Skipping line 4: expected 1 fields, saw 2\\n'b'Skipping line 4: expected 1 fields, saw 2\\n'\n",
      "b'Skipping line 4: expected 1 fields, saw 2\\n'b'Skipping line 4: expected 1 fields, saw 2\\n'\n"
     ]
    },
    {
     "name": "stdout",
     "output_type": "stream",
     "text": [
      "NKE"
     ]
    },
    {
     "name": "stderr",
     "output_type": "stream",
     "text": [
      "b'Skipping line 4: expected 1 fields, saw 2\\n'b'Skipping line 4: expected 1 fields, saw 2\\n'\n",
      "\n",
      "\n"
     ]
    },
    {
     "name": "stdout",
     "output_type": "stream",
     "text": [
      "\n"
     ]
    },
    {
     "name": "stderr",
     "output_type": "stream",
     "text": [
      "\n"
     ]
    },
    {
     "name": "stdout",
     "output_type": "stream",
     "text": [
      "PKG"
     ]
    },
    {
     "name": "stderr",
     "output_type": "stream",
     "text": [
      "b'Skipping line 4: expected 1 fields, saw 2\\n'"
     ]
    },
    {
     "name": "stdout",
     "output_type": "stream",
     "text": [
      "\n"
     ]
    },
    {
     "name": "stderr",
     "output_type": "stream",
     "text": [
      "\n",
      "b'Skipping line 4: expected 1 fields, saw 2\\n'\n",
      "b'Skipping line 4: expected 1 fields, saw 2\\n'\n"
     ]
    },
    {
     "name": "stdout",
     "output_type": "stream",
     "text": [
      "LVS\n"
     ]
    },
    {
     "name": "stderr",
     "output_type": "stream",
     "text": [
      "b'Skipping line 4: expected 1 fields, saw 2\\n'"
     ]
    },
    {
     "name": "stdout",
     "output_type": "stream",
     "text": [
      "PHM"
     ]
    },
    {
     "name": "stderr",
     "output_type": "stream",
     "text": [
      "\n"
     ]
    },
    {
     "name": "stdout",
     "output_type": "stream",
     "text": [
      "SEE\n",
      "MASRLMS\n",
      "\n",
      "RSGLIN"
     ]
    },
    {
     "name": "stderr",
     "output_type": "stream",
     "text": [
      "b'Skipping line 4: expected 1 fields, saw 2\\n'"
     ]
    },
    {
     "name": "stdout",
     "output_type": "stream",
     "text": [
      "\n",
      "\n",
      "\n"
     ]
    },
    {
     "name": "stderr",
     "output_type": "stream",
     "text": [
      "b'Skipping line 4: expected 1 fields, saw 2\\n'\n",
      "b'Skipping line 4: expected 1 fields, saw 2\\n'\n"
     ]
    },
    {
     "name": "stdout",
     "output_type": "stream",
     "text": [
      "\n",
      "OXY"
     ]
    },
    {
     "name": "stderr",
     "output_type": "stream",
     "text": [
      "b'Skipping line 4: expected 1 fields, saw 2\\n'\n"
     ]
    },
    {
     "name": "stdout",
     "output_type": "stream",
     "text": [
      "\n",
      "PBCT\n"
     ]
    },
    {
     "name": "stderr",
     "output_type": "stream",
     "text": [
      "\n"
     ]
    },
    {
     "name": "stdout",
     "output_type": "stream",
     "text": [
      "MRK\n"
     ]
    },
    {
     "name": "stderr",
     "output_type": "stream",
     "text": [
      "b'Skipping line 4: expected 1 fields, saw 2\\n'"
     ]
    },
    {
     "name": "stdout",
     "output_type": "stream",
     "text": [
      "PNW"
     ]
    },
    {
     "name": "stderr",
     "output_type": "stream",
     "text": [
      "\n"
     ]
    },
    {
     "name": "stdout",
     "output_type": "stream",
     "text": [
      "\n",
      "NOV"
     ]
    },
    {
     "name": "stderr",
     "output_type": "stream",
     "text": [
      "b'Skipping line 4: expected 1 fields, saw 2\\n'"
     ]
    },
    {
     "name": "stdout",
     "output_type": "stream",
     "text": [
      "\n"
     ]
    },
    {
     "name": "stderr",
     "output_type": "stream",
     "text": [
      "\n",
      "b'Skipping line 4: expected 1 fields, saw 2\\n'\n"
     ]
    },
    {
     "name": "stdout",
     "output_type": "stream",
     "text": [
      "PH"
     ]
    },
    {
     "name": "stderr",
     "output_type": "stream",
     "text": [
      "b'Skipping line 4: expected 1 fields, saw 2\\n'"
     ]
    },
    {
     "name": "stdout",
     "output_type": "stream",
     "text": [
      "MSFT\n"
     ]
    },
    {
     "name": "stderr",
     "output_type": "stream",
     "text": [
      "\n",
      "b'Skipping line 4: expected 1 fields, saw 2\\n'"
     ]
    },
    {
     "name": "stdout",
     "output_type": "stream",
     "text": [
      "\n"
     ]
    },
    {
     "name": "stderr",
     "output_type": "stream",
     "text": [
      "\n"
     ]
    },
    {
     "name": "stdout",
     "output_type": "stream",
     "text": [
      "LEGPVH\n",
      "\n"
     ]
    },
    {
     "name": "stderr",
     "output_type": "stream",
     "text": [
      "b'Skipping line 4: expected 1 fields, saw 2\\n'b'Skipping line 4: expected 1 fields, saw 2\\n'\n",
      "b'Skipping line 4: expected 1 fields, saw 2\\n'\n",
      "\n",
      "b'Skipping line 4: expected 1 fields, saw 2\\n'\n"
     ]
    },
    {
     "name": "stdout",
     "output_type": "stream",
     "text": [
      "SRE"
     ]
    },
    {
     "name": "stderr",
     "output_type": "stream",
     "text": [
      "b'Skipping line 4: expected 1 fields, saw 2\\n'"
     ]
    },
    {
     "name": "stdout",
     "output_type": "stream",
     "text": [
      "\n"
     ]
    },
    {
     "name": "stderr",
     "output_type": "stream",
     "text": [
      "b'Skipping line 4: expected 1 fields, saw 2\\n'\n",
      "\n"
     ]
    },
    {
     "name": "stdout",
     "output_type": "stream",
     "text": [
      "MOSLYV\n",
      "MET\n"
     ]
    },
    {
     "name": "stderr",
     "output_type": "stream",
     "text": [
      "b'Skipping line 4: expected 1 fields, saw 2\\n'"
     ]
    },
    {
     "name": "stdout",
     "output_type": "stream",
     "text": [
      "\n"
     ]
    },
    {
     "name": "stderr",
     "output_type": "stream",
     "text": [
      "b'Skipping line 4: expected 1 fields, saw 2\\n'\n"
     ]
    },
    {
     "name": "stdout",
     "output_type": "stream",
     "text": [
      "MAPG"
     ]
    },
    {
     "name": "stderr",
     "output_type": "stream",
     "text": [
      "\n"
     ]
    },
    {
     "name": "stdout",
     "output_type": "stream",
     "text": [
      "ODFL\n"
     ]
    },
    {
     "name": "stderr",
     "output_type": "stream",
     "text": [
      "b'Skipping line 4: expected 1 fields, saw 2\\n'\n"
     ]
    },
    {
     "name": "stdout",
     "output_type": "stream",
     "text": [
      "\n",
      "\n"
     ]
    },
    {
     "name": "stderr",
     "output_type": "stream",
     "text": [
      "b'Skipping line 4: expected 1 fields, saw 2\\n'b'Skipping line 4: expected 1 fields, saw 2\\n'\n",
      "b'Skipping line 4: expected 1 fields, saw 2\\n'\n",
      "b'Skipping line 4: expected 1 fields, saw 2\\n'\n"
     ]
    },
    {
     "name": "stdout",
     "output_type": "stream",
     "text": [
      "PXD"
     ]
    },
    {
     "name": "stderr",
     "output_type": "stream",
     "text": [
      "b'Skipping line 4: expected 1 fields, saw 2\\n'\n"
     ]
    },
    {
     "name": "stdout",
     "output_type": "stream",
     "text": [
      "\n"
     ]
    },
    {
     "name": "stderr",
     "output_type": "stream",
     "text": [
      "\n"
     ]
    },
    {
     "name": "stdout",
     "output_type": "stream",
     "text": [
      "NIPAYXMAA\n",
      "NWL\n",
      "\n",
      "\n",
      "QRVO\n"
     ]
    },
    {
     "name": "stderr",
     "output_type": "stream",
     "text": [
      "b'Skipping line 4: expected 1 fields, saw 2\\n'b'Skipping line 4: expected 1 fields, saw 2\\n'\n"
     ]
    },
    {
     "name": "stdout",
     "output_type": "stream",
     "text": [
      "LDOS\n"
     ]
    },
    {
     "name": "stderr",
     "output_type": "stream",
     "text": [
      "\n"
     ]
    },
    {
     "name": "stdout",
     "output_type": "stream",
     "text": [
      "PEP\n"
     ]
    },
    {
     "name": "stderr",
     "output_type": "stream",
     "text": [
      "b'Skipping line 4: expected 1 fields, saw 2\\n'"
     ]
    },
    {
     "name": "stdout",
     "output_type": "stream",
     "text": [
      "LYB"
     ]
    },
    {
     "name": "stderr",
     "output_type": "stream",
     "text": [
      "\n"
     ]
    },
    {
     "name": "stdout",
     "output_type": "stream",
     "text": [
      "\n"
     ]
    },
    {
     "name": "stderr",
     "output_type": "stream",
     "text": [
      "b'Skipping line 4: expected 1 fields, saw 2\\n'\n"
     ]
    },
    {
     "name": "stdout",
     "output_type": "stream",
     "text": [
      "LKQ\n",
      "NOW\n"
     ]
    },
    {
     "name": "stderr",
     "output_type": "stream",
     "text": [
      "b'Skipping line 4: expected 1 fields, saw 2\\n'\n",
      "b'Skipping line 4: expected 1 fields, saw 2\\n'b'Skipping line 4: expected 1 fields, saw 2\\n'b'Skipping line 4: expected 1 fields, saw 2\\n'\n",
      "b'Skipping line 4: expected 1 fields, saw 2\\n'\n",
      "b'Skipping line 4: expected 1 fields, saw 2\\n'"
     ]
    },
    {
     "name": "stdout",
     "output_type": "stream",
     "text": [
      "PNC"
     ]
    },
    {
     "name": "stderr",
     "output_type": "stream",
     "text": [
      "\n"
     ]
    },
    {
     "name": "stdout",
     "output_type": "stream",
     "text": [
      "\n"
     ]
    },
    {
     "name": "stderr",
     "output_type": "stream",
     "text": [
      "\n",
      "b'Skipping line 4: expected 1 fields, saw 2\\n'"
     ]
    },
    {
     "name": "stdout",
     "output_type": "stream",
     "text": [
      "NSC\n"
     ]
    },
    {
     "name": "stderr",
     "output_type": "stream",
     "text": [
      "\n",
      "\n"
     ]
    },
    {
     "name": "stdout",
     "output_type": "stream",
     "text": [
      "NEM"
     ]
    },
    {
     "name": "stderr",
     "output_type": "stream",
     "text": [
      "b'Skipping line 4: expected 1 fields, saw 2\\n'"
     ]
    },
    {
     "name": "stdout",
     "output_type": "stream",
     "text": [
      "MHK\n",
      "\n"
     ]
    },
    {
     "name": "stderr",
     "output_type": "stream",
     "text": [
      "\n"
     ]
    },
    {
     "name": "stdout",
     "output_type": "stream",
     "text": [
      "LENPAYC\n",
      "\n",
      "PWR\n",
      "MTB\n"
     ]
    },
    {
     "name": "stderr",
     "output_type": "stream",
     "text": [
      "b'Skipping line 4: expected 1 fields, saw 2\\n'b'Skipping line 4: expected 1 fields, saw 2\\n'\n",
      "\n",
      "b'Skipping line 4: expected 1 fields, saw 2\\n'\n",
      "b'Skipping line 4: expected 1 fields, saw 2\\n'\n"
     ]
    },
    {
     "name": "stdout",
     "output_type": "stream",
     "text": [
      "NTRS\n",
      "TAPNWSA"
     ]
    },
    {
     "name": "stderr",
     "output_type": "stream",
     "text": [
      "b'Skipping line 4: expected 1 fields, saw 2\\n'"
     ]
    },
    {
     "name": "stdout",
     "output_type": "stream",
     "text": [
      "\n",
      "POOL\n"
     ]
    },
    {
     "name": "stderr",
     "output_type": "stream",
     "text": [
      "\n"
     ]
    },
    {
     "name": "stdout",
     "output_type": "stream",
     "text": [
      "\n"
     ]
    },
    {
     "name": "stderr",
     "output_type": "stream",
     "text": [
      "b'Skipping line 4: expected 1 fields, saw 2\\n'b'Skipping line 4: expected 1 fields, saw 2\\n'\n",
      "\n"
     ]
    },
    {
     "name": "stdout",
     "output_type": "stream",
     "text": [
      "RCL\n",
      "MRO\n",
      "QCOM\n"
     ]
    },
    {
     "name": "stderr",
     "output_type": "stream",
     "text": [
      "b'Skipping line 4: expected 1 fields, saw 2\\n'b'Skipping line 4: expected 1 fields, saw 2\\n'\n",
      "\n",
      "b'Skipping line 4: expected 1 fields, saw 2\\n'"
     ]
    },
    {
     "name": "stdout",
     "output_type": "stream",
     "text": [
      "LMT\n"
     ]
    },
    {
     "name": "stderr",
     "output_type": "stream",
     "text": [
      "\n"
     ]
    },
    {
     "name": "stdout",
     "output_type": "stream",
     "text": [
      "OMCSO\n",
      "\n"
     ]
    },
    {
     "name": "stderr",
     "output_type": "stream",
     "text": [
      "b'Skipping line 4: expected 1 fields, saw 2\\n'\n",
      "b'Skipping line 4: expected 1 fields, saw 2\\n'\n"
     ]
    },
    {
     "name": "stdout",
     "output_type": "stream",
     "text": [
      "MDLZ\n",
      "MKC\n"
     ]
    },
    {
     "name": "stderr",
     "output_type": "stream",
     "text": [
      "b'Skipping line 4: expected 1 fields, saw 2\\n'\n",
      "b'Skipping line 4: expected 1 fields, saw 2\\n'"
     ]
    },
    {
     "name": "stdout",
     "output_type": "stream",
     "text": [
      "SPGI\n"
     ]
    },
    {
     "name": "stderr",
     "output_type": "stream",
     "text": [
      "\n",
      "b'Skipping line 4: expected 1 fields, saw 2\\n'"
     ]
    },
    {
     "name": "stdout",
     "output_type": "stream",
     "text": [
      "SIVB\n"
     ]
    },
    {
     "name": "stderr",
     "output_type": "stream",
     "text": [
      "b'Skipping line 4: expected 1 fields, saw 2\\n'b'Skipping line 4: expected 1 fields, saw 2\\n'\n",
      "b'Skipping line 4: expected 1 fields, saw 2\\n'\n",
      "\n",
      "\n",
      "b'Skipping line 4: expected 1 fields, saw 2\\n'"
     ]
    },
    {
     "name": "stdout",
     "output_type": "stream",
     "text": [
      "NRG\n",
      "L\n"
     ]
    },
    {
     "name": "stderr",
     "output_type": "stream",
     "text": [
      "\n"
     ]
    },
    {
     "name": "stdout",
     "output_type": "stream",
     "text": [
      "PGR\n",
      "LUV\n",
      "PYPL\n"
     ]
    },
    {
     "name": "stderr",
     "output_type": "stream",
     "text": [
      "b'Skipping line 4: expected 1 fields, saw 2\\n'\n",
      "b'Skipping line 4: expected 1 fields, saw 2\\n'b'Skipping line 4: expected 1 fields, saw 2\\n'\n"
     ]
    },
    {
     "name": "stdout",
     "output_type": "stream",
     "text": [
      "MXIM"
     ]
    },
    {
     "name": "stderr",
     "output_type": "stream",
     "text": [
      "\n"
     ]
    },
    {
     "name": "stdout",
     "output_type": "stream",
     "text": [
      "\n",
      "MSIRMD\n",
      "\n"
     ]
    },
    {
     "name": "stderr",
     "output_type": "stream",
     "text": [
      "b'Skipping line 4: expected 1 fields, saw 2\\n'\n",
      "b'Skipping line 4: expected 1 fields, saw 2\\n'\n",
      "b'Skipping line 4: expected 1 fields, saw 2\\n'\n"
     ]
    },
    {
     "name": "stdout",
     "output_type": "stream",
     "text": [
      "SYF\n",
      "TPRRJF\n",
      "\n"
     ]
    },
    {
     "name": "stderr",
     "output_type": "stream",
     "text": [
      "b'Skipping line 4: expected 1 fields, saw 2\\n'\n"
     ]
    },
    {
     "name": "stdout",
     "output_type": "stream",
     "text": [
      "NUE\n"
     ]
    },
    {
     "name": "stderr",
     "output_type": "stream",
     "text": [
      "b'Skipping line 4: expected 1 fields, saw 2\\n'\n",
      "b'Skipping line 4: expected 1 fields, saw 2\\n'\n",
      "b'Skipping line 4: expected 1 fields, saw 2\\n'"
     ]
    },
    {
     "name": "stdout",
     "output_type": "stream",
     "text": [
      "TXN"
     ]
    },
    {
     "name": "stderr",
     "output_type": "stream",
     "text": [
      "b'Skipping line 4: expected 1 fields, saw 2\\n'"
     ]
    },
    {
     "name": "stdout",
     "output_type": "stream",
     "text": [
      "\n"
     ]
    },
    {
     "name": "stderr",
     "output_type": "stream",
     "text": [
      "\n"
     ]
    },
    {
     "name": "stdout",
     "output_type": "stream",
     "text": [
      "PLD"
     ]
    },
    {
     "name": "stderr",
     "output_type": "stream",
     "text": [
      "\n",
      "b'Skipping line 4: expected 1 fields, saw 2\\n'"
     ]
    },
    {
     "name": "stdout",
     "output_type": "stream",
     "text": [
      "\n"
     ]
    },
    {
     "name": "stderr",
     "output_type": "stream",
     "text": [
      "\n",
      "b'Skipping line 4: expected 1 fields, saw 2\\n'"
     ]
    },
    {
     "name": "stdout",
     "output_type": "stream",
     "text": [
      "TRV"
     ]
    },
    {
     "name": "stderr",
     "output_type": "stream",
     "text": [
      "\n"
     ]
    },
    {
     "name": "stdout",
     "output_type": "stream",
     "text": [
      "\n",
      "RHI"
     ]
    },
    {
     "name": "stderr",
     "output_type": "stream",
     "text": [
      "b'Skipping line 4: expected 1 fields, saw 2\\n'"
     ]
    },
    {
     "name": "stdout",
     "output_type": "stream",
     "text": [
      "\n",
      "MTD\n",
      "MSCI\n"
     ]
    },
    {
     "name": "stderr",
     "output_type": "stream",
     "text": [
      "b'Skipping line 4: expected 1 fields, saw 2\\n'\n",
      "\n"
     ]
    },
    {
     "name": "stdout",
     "output_type": "stream",
     "text": [
      "SNPS\n",
      "NWS\n"
     ]
    },
    {
     "name": "stderr",
     "output_type": "stream",
     "text": [
      "b'Skipping line 4: expected 1 fields, saw 2\\n'b'Skipping line 4: expected 1 fields, saw 2\\n'\n",
      "\n"
     ]
    },
    {
     "name": "stdout",
     "output_type": "stream",
     "text": [
      "RTX\n",
      "TGT\n"
     ]
    },
    {
     "name": "stderr",
     "output_type": "stream",
     "text": [
      "b'Skipping line 4: expected 1 fields, saw 2\\n'\n",
      "b'Skipping line 4: expected 1 fields, saw 2\\n'\n"
     ]
    },
    {
     "name": "stdout",
     "output_type": "stream",
     "text": [
      "SWK\n",
      "PKI\n"
     ]
    },
    {
     "name": "stderr",
     "output_type": "stream",
     "text": [
      "b'Skipping line 4: expected 1 fields, saw 2\\n'\n"
     ]
    },
    {
     "name": "stdout",
     "output_type": "stream",
     "text": [
      "TXT\n"
     ]
    },
    {
     "name": "stderr",
     "output_type": "stream",
     "text": [
      "b'Skipping line 4: expected 1 fields, saw 2\\n'\n"
     ]
    },
    {
     "name": "stdout",
     "output_type": "stream",
     "text": [
      "TRMB\n"
     ]
    },
    {
     "name": "stderr",
     "output_type": "stream",
     "text": [
      "b'Skipping line 4: expected 1 fields, saw 2\\n'b'Skipping line 4: expected 1 fields, saw 2\\n'\n",
      "\n",
      "b'Skipping line 4: expected 1 fields, saw 2\\n'"
     ]
    },
    {
     "name": "stdout",
     "output_type": "stream",
     "text": [
      "MGM"
     ]
    },
    {
     "name": "stderr",
     "output_type": "stream",
     "text": [
      "b'Skipping line 4: expected 1 fields, saw 2\\n'\n"
     ]
    },
    {
     "name": "stdout",
     "output_type": "stream",
     "text": [
      "\n"
     ]
    },
    {
     "name": "stderr",
     "output_type": "stream",
     "text": [
      "b'Skipping line 4: expected 1 fields, saw 2\\n'\n",
      "\n"
     ]
    },
    {
     "name": "stdout",
     "output_type": "stream",
     "text": [
      "ROKNOCSHW"
     ]
    },
    {
     "name": "stderr",
     "output_type": "stream",
     "text": [
      "b'Skipping line 4: expected 1 fields, saw 2\\n'"
     ]
    },
    {
     "name": "stdout",
     "output_type": "stream",
     "text": [
      "PPG\n",
      "\n"
     ]
    },
    {
     "name": "stderr",
     "output_type": "stream",
     "text": [
      "\n"
     ]
    },
    {
     "name": "stdout",
     "output_type": "stream",
     "text": [
      "\n",
      "\n"
     ]
    },
    {
     "name": "stderr",
     "output_type": "stream",
     "text": [
      "b'Skipping line 4: expected 1 fields, saw 2\\n'"
     ]
    },
    {
     "name": "stdout",
     "output_type": "stream",
     "text": [
      "ULTA"
     ]
    },
    {
     "name": "stderr",
     "output_type": "stream",
     "text": [
      "\n",
      "b'Skipping line 4: expected 1 fields, saw 2\\n'"
     ]
    },
    {
     "name": "stdout",
     "output_type": "stream",
     "text": [
      "\n"
     ]
    },
    {
     "name": "stderr",
     "output_type": "stream",
     "text": [
      "\n"
     ]
    },
    {
     "name": "stdout",
     "output_type": "stream",
     "text": [
      "SYY"
     ]
    },
    {
     "name": "stderr",
     "output_type": "stream",
     "text": [
      "b'Skipping line 4: expected 1 fields, saw 2\\n'"
     ]
    },
    {
     "name": "stdout",
     "output_type": "stream",
     "text": [
      "CRM\n"
     ]
    },
    {
     "name": "stderr",
     "output_type": "stream",
     "text": [
      "\n",
      "b'Skipping line 4: expected 1 fields, saw 2\\n'"
     ]
    },
    {
     "name": "stdout",
     "output_type": "stream",
     "text": [
      "\n"
     ]
    },
    {
     "name": "stderr",
     "output_type": "stream",
     "text": [
      "\n",
      "b'Skipping line 4: expected 1 fields, saw 2\\n'b'Skipping line 4: expected 1 fields, saw 2\\n'b'Skipping line 4: expected 1 fields, saw 2\\n'\n",
      "\n",
      "b'Skipping line 4: expected 1 fields, saw 2\\n'\n",
      "b'Skipping line 4: expected 1 fields, saw 2\\n'"
     ]
    },
    {
     "name": "stdout",
     "output_type": "stream",
     "text": [
      "NVDA"
     ]
    },
    {
     "name": "stderr",
     "output_type": "stream",
     "text": [
      "\n"
     ]
    },
    {
     "name": "stdout",
     "output_type": "stream",
     "text": [
      "\n"
     ]
    },
    {
     "name": "stderr",
     "output_type": "stream",
     "text": [
      "\n"
     ]
    },
    {
     "name": "stdout",
     "output_type": "stream",
     "text": [
      "OKE"
     ]
    },
    {
     "name": "stderr",
     "output_type": "stream",
     "text": [
      "b'Skipping line 4: expected 1 fields, saw 2\\n'b'Skipping line 4: expected 1 fields, saw 2\\n'b'Skipping line 4: expected 1 fields, saw 2\\n'"
     ]
    },
    {
     "name": "stdout",
     "output_type": "stream",
     "text": [
      "\n",
      "SBUX"
     ]
    },
    {
     "name": "stderr",
     "output_type": "stream",
     "text": [
      "\n",
      "\n",
      "\n",
      "b'Skipping line 4: expected 1 fields, saw 2\\n'"
     ]
    },
    {
     "name": "stdout",
     "output_type": "stream",
     "text": [
      "\n"
     ]
    },
    {
     "name": "stderr",
     "output_type": "stream",
     "text": [
      "b'Skipping line 4: expected 1 fields, saw 2\\n'\n",
      "\n"
     ]
    },
    {
     "name": "stdout",
     "output_type": "stream",
     "text": [
      "O"
     ]
    },
    {
     "name": "stderr",
     "output_type": "stream",
     "text": [
      "b'Skipping line 4: expected 1 fields, saw 2\\n'"
     ]
    },
    {
     "name": "stdout",
     "output_type": "stream",
     "text": [
      "TFC"
     ]
    },
    {
     "name": "stderr",
     "output_type": "stream",
     "text": [
      "b'Skipping line 4: expected 1 fields, saw 2\\n'\n",
      "b'Skipping line 4: expected 1 fields, saw 2\\n'b'Skipping line 4: expected 1 fields, saw 2\\n'\n"
     ]
    },
    {
     "name": "stdout",
     "output_type": "stream",
     "text": [
      "\n",
      "PRGO"
     ]
    },
    {
     "name": "stderr",
     "output_type": "stream",
     "text": [
      "b'Skipping line 4: expected 1 fields, saw 2\\n'b'Skipping line 4: expected 1 fields, saw 2\\n'\n"
     ]
    },
    {
     "name": "stdout",
     "output_type": "stream",
     "text": [
      "\n"
     ]
    },
    {
     "name": "stderr",
     "output_type": "stream",
     "text": [
      "b'Skipping line 4: expected 1 fields, saw 2\\n'\n"
     ]
    },
    {
     "name": "stdout",
     "output_type": "stream",
     "text": [
      "UPS\n"
     ]
    },
    {
     "name": "stderr",
     "output_type": "stream",
     "text": [
      "\n"
     ]
    },
    {
     "name": "stdout",
     "output_type": "stream",
     "text": [
      "VRSKTMO"
     ]
    },
    {
     "name": "stderr",
     "output_type": "stream",
     "text": [
      "\n"
     ]
    },
    {
     "name": "stdout",
     "output_type": "stream",
     "text": [
      "\n"
     ]
    },
    {
     "name": "stderr",
     "output_type": "stream",
     "text": [
      "b'Skipping line 4: expected 1 fields, saw 2\\n'"
     ]
    },
    {
     "name": "stdout",
     "output_type": "stream",
     "text": [
      "TEL\n"
     ]
    },
    {
     "name": "stderr",
     "output_type": "stream",
     "text": [
      "b'Skipping line 4: expected 1 fields, saw 2\\n'"
     ]
    },
    {
     "name": "stdout",
     "output_type": "stream",
     "text": [
      "\n",
      "VNOMPC"
     ]
    },
    {
     "name": "stderr",
     "output_type": "stream",
     "text": [
      "\n"
     ]
    },
    {
     "name": "stdout",
     "output_type": "stream",
     "text": [
      "\n",
      "\n"
     ]
    },
    {
     "name": "stderr",
     "output_type": "stream",
     "text": [
      "\n"
     ]
    },
    {
     "name": "stdout",
     "output_type": "stream",
     "text": [
      "\n"
     ]
    },
    {
     "name": "stderr",
     "output_type": "stream",
     "text": [
      "\n"
     ]
    },
    {
     "name": "stdout",
     "output_type": "stream",
     "text": [
      "WMWU\n",
      "SBAC\n",
      "SPG\n",
      "\n",
      "TMUS\n"
     ]
    },
    {
     "name": "stderr",
     "output_type": "stream",
     "text": [
      "b'Skipping line 4: expected 1 fields, saw 2\\n'b'Skipping line 4: expected 1 fields, saw 2\\n'\n"
     ]
    },
    {
     "name": "stdout",
     "output_type": "stream",
     "text": [
      "ROLPRUNVR\n"
     ]
    },
    {
     "name": "stderr",
     "output_type": "stream",
     "text": [
      "b'Skipping line 4: expected 1 fields, saw 2\\n'"
     ]
    },
    {
     "name": "stdout",
     "output_type": "stream",
     "text": [
      "\n",
      "\n",
      "USBSTT\n",
      "\n"
     ]
    },
    {
     "name": "stderr",
     "output_type": "stream",
     "text": [
      "b'Skipping line 4: expected 1 fields, saw 2\\n'\n",
      "\n",
      "\n",
      "b'Skipping line 4: expected 1 fields, saw 2\\n'\n",
      "b'Skipping line 4: expected 1 fields, saw 2\\n'b'Skipping line 4: expected 1 fields, saw 2\\n'\n",
      "b'Skipping line 4: expected 1 fields, saw 2\\n'\n",
      "\n"
     ]
    },
    {
     "name": "stdout",
     "output_type": "stream",
     "text": [
      "TWTRORCL\n",
      "\n"
     ]
    },
    {
     "name": "stderr",
     "output_type": "stream",
     "text": [
      "b'Skipping line 4: expected 1 fields, saw 2\\n'\n",
      "b'Skipping line 4: expected 1 fields, saw 2\\n'b'Skipping line 4: expected 1 fields, saw 2\\n'b'Skipping line 4: expected 1 fields, saw 2\\n'\n",
      "\n"
     ]
    },
    {
     "name": "stdout",
     "output_type": "stream",
     "text": [
      "VMCTJXTDYPFE\n",
      "VZ"
     ]
    },
    {
     "name": "stderr",
     "output_type": "stream",
     "text": [
      "b'Skipping line 4: expected 1 fields, saw 2\\n'\n",
      "b'Skipping line 4: expected 1 fields, saw 2\\n'b'Skipping line 4: expected 1 fields, saw 2\\n'\n",
      "\n"
     ]
    },
    {
     "name": "stdout",
     "output_type": "stream",
     "text": [
      "REG"
     ]
    },
    {
     "name": "stderr",
     "output_type": "stream",
     "text": [
      "b'Skipping line 4: expected 1 fields, saw 2\\n'"
     ]
    },
    {
     "name": "stdout",
     "output_type": "stream",
     "text": [
      "\n",
      "\n",
      "\n"
     ]
    },
    {
     "name": "stderr",
     "output_type": "stream",
     "text": [
      "\n"
     ]
    },
    {
     "name": "stdout",
     "output_type": "stream",
     "text": [
      "\n"
     ]
    },
    {
     "name": "stderr",
     "output_type": "stream",
     "text": [
      "\n"
     ]
    },
    {
     "name": "stdout",
     "output_type": "stream",
     "text": [
      "\n",
      "URI\n",
      "MKTX\n"
     ]
    },
    {
     "name": "stderr",
     "output_type": "stream",
     "text": [
      "b'Skipping line 4: expected 1 fields, saw 2\\n'b'Skipping line 4: expected 1 fields, saw 2\\n'\n"
     ]
    },
    {
     "name": "stdout",
     "output_type": "stream",
     "text": [
      "WRK"
     ]
    },
    {
     "name": "stderr",
     "output_type": "stream",
     "text": [
      "\n",
      "b'Skipping line 4: expected 1 fields, saw 2\\n'b'Skipping line 4: expected 1 fields, saw 2\\n'"
     ]
    },
    {
     "name": "stdout",
     "output_type": "stream",
     "text": [
      "SWKSTROW"
     ]
    },
    {
     "name": "stderr",
     "output_type": "stream",
     "text": [
      "\n",
      "\n"
     ]
    },
    {
     "name": "stdout",
     "output_type": "stream",
     "text": [
      "SLB\n",
      "WAT\n",
      "\n",
      "\n",
      "\n"
     ]
    },
    {
     "name": "stderr",
     "output_type": "stream",
     "text": [
      "b'Skipping line 4: expected 1 fields, saw 2\\n'b'Skipping line 4: expected 1 fields, saw 2\\n'\n"
     ]
    },
    {
     "name": "stdout",
     "output_type": "stream",
     "text": [
      "XEL"
     ]
    },
    {
     "name": "stderr",
     "output_type": "stream",
     "text": [
      "\n"
     ]
    },
    {
     "name": "stdout",
     "output_type": "stream",
     "text": [
      "\n"
     ]
    },
    {
     "name": "stderr",
     "output_type": "stream",
     "text": [
      "b'Skipping line 4: expected 1 fields, saw 2\\n'\n"
     ]
    },
    {
     "name": "stdout",
     "output_type": "stream",
     "text": [
      "STE"
     ]
    },
    {
     "name": "stderr",
     "output_type": "stream",
     "text": [
      "b'Skipping line 4: expected 1 fields, saw 2\\n'"
     ]
    },
    {
     "name": "stdout",
     "output_type": "stream",
     "text": [
      "\n",
      "UAA"
     ]
    },
    {
     "name": "stderr",
     "output_type": "stream",
     "text": [
      "b'Skipping line 4: expected 1 fields, saw 2\\n'b'Skipping line 4: expected 1 fields, saw 2\\n'"
     ]
    },
    {
     "name": "stdout",
     "output_type": "stream",
     "text": [
      "ZTS\n"
     ]
    },
    {
     "name": "stderr",
     "output_type": "stream",
     "text": [
      "\n",
      "\n"
     ]
    },
    {
     "name": "stdout",
     "output_type": "stream",
     "text": [
      "PTC\n",
      "ROPTYL\n"
     ]
    },
    {
     "name": "stderr",
     "output_type": "stream",
     "text": [
      "b'Skipping line 4: expected 1 fields, saw 2\\n'b'Skipping line 4: expected 1 fields, saw 2\\n'"
     ]
    },
    {
     "name": "stdout",
     "output_type": "stream",
     "text": [
      "\n",
      "\n"
     ]
    },
    {
     "name": "stderr",
     "output_type": "stream",
     "text": [
      "\n"
     ]
    },
    {
     "name": "stdout",
     "output_type": "stream",
     "text": [
      "WRBTSCO"
     ]
    },
    {
     "name": "stderr",
     "output_type": "stream",
     "text": [
      "\n",
      "b'Skipping line 4: expected 1 fields, saw 2\\n'"
     ]
    },
    {
     "name": "stdout",
     "output_type": "stream",
     "text": [
      "\n",
      "\n"
     ]
    },
    {
     "name": "stderr",
     "output_type": "stream",
     "text": [
      "\n",
      "\n",
      "b'Skipping line 4: expected 1 fields, saw 2\\n'b'Skipping line 4: expected 1 fields, saw 2\\n'\n",
      "\n"
     ]
    },
    {
     "name": "stdout",
     "output_type": "stream",
     "text": [
      "TFX\n",
      "UHSREGN\n",
      "\n",
      "STX\n"
     ]
    },
    {
     "name": "stderr",
     "output_type": "stream",
     "text": [
      "b'Skipping line 4: expected 1 fields, saw 2\\n'b'Skipping line 4: expected 1 fields, saw 2\\n'\n",
      "\n",
      "b'Skipping line 4: expected 1 fields, saw 2\\n'"
     ]
    },
    {
     "name": "stdout",
     "output_type": "stream",
     "text": [
      "SNA"
     ]
    },
    {
     "name": "stderr",
     "output_type": "stream",
     "text": [
      "\n"
     ]
    },
    {
     "name": "stdout",
     "output_type": "stream",
     "text": [
      "\n"
     ]
    },
    {
     "name": "stderr",
     "output_type": "stream",
     "text": [
      "b'Skipping line 4: expected 1 fields, saw 2\\n'\n",
      "b'Skipping line 4: expected 1 fields, saw 2\\n'"
     ]
    },
    {
     "name": "stdout",
     "output_type": "stream",
     "text": [
      "TTWOWY"
     ]
    },
    {
     "name": "stderr",
     "output_type": "stream",
     "text": [
      "\n",
      "b'Skipping line 4: expected 1 fields, saw 2\\n'"
     ]
    },
    {
     "name": "stdout",
     "output_type": "stream",
     "text": [
      "WEC"
     ]
    },
    {
     "name": "stderr",
     "output_type": "stream",
     "text": [
      "b'Skipping line 4: expected 1 fields, saw 2\\n'b'Skipping line 4: expected 1 fields, saw 2\\n'"
     ]
    },
    {
     "name": "stdout",
     "output_type": "stream",
     "text": [
      "\n",
      "\n"
     ]
    },
    {
     "name": "stderr",
     "output_type": "stream",
     "text": [
      "\n",
      "\n"
     ]
    },
    {
     "name": "stdout",
     "output_type": "stream",
     "text": [
      "\n"
     ]
    },
    {
     "name": "stderr",
     "output_type": "stream",
     "text": [
      "\n",
      "b'Skipping line 4: expected 1 fields, saw 2\\n'b'Skipping line 4: expected 1 fields, saw 2\\n'b'Skipping line 4: expected 1 fields, saw 2\\n'\n",
      "b'Skipping line 4: expected 1 fields, saw 2\\n'"
     ]
    },
    {
     "name": "stdout",
     "output_type": "stream",
     "text": [
      "SYK"
     ]
    },
    {
     "name": "stderr",
     "output_type": "stream",
     "text": [
      "\n",
      "\n"
     ]
    },
    {
     "name": "stdout",
     "output_type": "stream",
     "text": [
      "\n"
     ]
    },
    {
     "name": "stderr",
     "output_type": "stream",
     "text": [
      "\n",
      "b'Skipping line 4: expected 1 fields, saw 2\\n'"
     ]
    },
    {
     "name": "stdout",
     "output_type": "stream",
     "text": [
      "XLNX"
     ]
    },
    {
     "name": "stderr",
     "output_type": "stream",
     "text": [
      "\n"
     ]
    },
    {
     "name": "stdout",
     "output_type": "stream",
     "text": [
      "\n"
     ]
    },
    {
     "name": "stderr",
     "output_type": "stream",
     "text": [
      "b'Skipping line 4: expected 1 fields, saw 2\\n'\n"
     ]
    },
    {
     "name": "stdout",
     "output_type": "stream",
     "text": [
      "VRTX"
     ]
    },
    {
     "name": "stderr",
     "output_type": "stream",
     "text": [
      "b'Skipping line 4: expected 1 fields, saw 2\\n'"
     ]
    },
    {
     "name": "stdout",
     "output_type": "stream",
     "text": [
      "\n"
     ]
    },
    {
     "name": "stderr",
     "output_type": "stream",
     "text": [
      "\n",
      "b'Skipping line 4: expected 1 fields, saw 2\\n'\n"
     ]
    },
    {
     "name": "stdout",
     "output_type": "stream",
     "text": [
      "WABUATSN\n",
      "\n",
      "\n"
     ]
    },
    {
     "name": "stderr",
     "output_type": "stream",
     "text": [
      "b'Skipping line 4: expected 1 fields, saw 2\\n'b'Skipping line 4: expected 1 fields, saw 2\\n'\n",
      "\n"
     ]
    },
    {
     "name": "stdout",
     "output_type": "stream",
     "text": [
      "TER\n"
     ]
    },
    {
     "name": "stderr",
     "output_type": "stream",
     "text": [
      "b'Skipping line 4: expected 1 fields, saw 2\\n'"
     ]
    },
    {
     "name": "stdout",
     "output_type": "stream",
     "text": [
      "TTUNM"
     ]
    },
    {
     "name": "stderr",
     "output_type": "stream",
     "text": [
      "\n"
     ]
    },
    {
     "name": "stdout",
     "output_type": "stream",
     "text": [
      "\n",
      "\n"
     ]
    },
    {
     "name": "stderr",
     "output_type": "stream",
     "text": [
      "b'Skipping line 4: expected 1 fields, saw 2\\n'\n",
      "b'Skipping line 4: expected 1 fields, saw 2\\n'b'Skipping line 4: expected 1 fields, saw 2\\n'\n",
      "b'Skipping line 4: expected 1 fields, saw 2\\n'b'Skipping line 4: expected 1 fields, saw 2\\n'\n",
      "\n",
      "\n"
     ]
    },
    {
     "name": "stdout",
     "output_type": "stream",
     "text": [
      "WFCWHR\n",
      "\n",
      "XYL\n"
     ]
    },
    {
     "name": "stderr",
     "output_type": "stream",
     "text": [
      "b'Skipping line 4: expected 1 fields, saw 2\\n'\n"
     ]
    },
    {
     "name": "stdout",
     "output_type": "stream",
     "text": [
      "VFC\n"
     ]
    },
    {
     "name": "stderr",
     "output_type": "stream",
     "text": [
      "b'Skipping line 4: expected 1 fields, saw 2\\n'\n"
     ]
    },
    {
     "name": "stdout",
     "output_type": "stream",
     "text": [
      "UDR\n"
     ]
    },
    {
     "name": "stderr",
     "output_type": "stream",
     "text": [
      "b'Skipping line 4: expected 1 fields, saw 2\\n'\n"
     ]
    },
    {
     "name": "stdout",
     "output_type": "stream",
     "text": [
      "UNP"
     ]
    },
    {
     "name": "stderr",
     "output_type": "stream",
     "text": [
      "b'Skipping line 4: expected 1 fields, saw 2\\n'b'Skipping line 4: expected 1 fields, saw 2\\n'\n"
     ]
    },
    {
     "name": "stdout",
     "output_type": "stream",
     "text": [
      "\n"
     ]
    },
    {
     "name": "stderr",
     "output_type": "stream",
     "text": [
      "\n",
      "b'Skipping line 4: expected 1 fields, saw 2\\n'"
     ]
    },
    {
     "name": "stdout",
     "output_type": "stream",
     "text": [
      "WMTTSLA\n",
      "\n"
     ]
    },
    {
     "name": "stderr",
     "output_type": "stream",
     "text": [
      "\n",
      "b'Skipping line 4: expected 1 fields, saw 2\\n'\n",
      "b'Skipping line 4: expected 1 fields, saw 2\\n'\n"
     ]
    },
    {
     "name": "stdout",
     "output_type": "stream",
     "text": [
      "VLOTDG"
     ]
    },
    {
     "name": "stderr",
     "output_type": "stream",
     "text": [
      "b'Skipping line 4: expected 1 fields, saw 2\\n'b'Skipping line 4: expected 1 fields, saw 2\\n'\n"
     ]
    },
    {
     "name": "stdout",
     "output_type": "stream",
     "text": [
      "\n",
      "\n"
     ]
    },
    {
     "name": "stderr",
     "output_type": "stream",
     "text": [
      "\n"
     ]
    },
    {
     "name": "stdout",
     "output_type": "stream",
     "text": [
      "WMB\n",
      "WELL\n",
      "YUM\n"
     ]
    },
    {
     "name": "stderr",
     "output_type": "stream",
     "text": [
      "b'Skipping line 4: expected 1 fields, saw 2\\n'b'Skipping line 4: expected 1 fields, saw 2\\n'\n",
      "b'Skipping line 4: expected 1 fields, saw 2\\n'\n",
      "\n"
     ]
    },
    {
     "name": "stdout",
     "output_type": "stream",
     "text": [
      "UAL\n"
     ]
    },
    {
     "name": "stderr",
     "output_type": "stream",
     "text": [
      "b'Skipping line 4: expected 1 fields, saw 2\\n'\n"
     ]
    },
    {
     "name": "stdout",
     "output_type": "stream",
     "text": [
      "VIAC\n"
     ]
    },
    {
     "name": "stderr",
     "output_type": "stream",
     "text": [
      "b'Skipping line 4: expected 1 fields, saw 2\\n'\n"
     ]
    },
    {
     "name": "stdout",
     "output_type": "stream",
     "text": [
      "WST\n"
     ]
    },
    {
     "name": "stderr",
     "output_type": "stream",
     "text": [
      "b'Skipping line 4: expected 1 fields, saw 2\\n'\n",
      "b'Skipping line 4: expected 1 fields, saw 2\\n'b'Skipping line 4: expected 1 fields, saw 2\\n'"
     ]
    },
    {
     "name": "stdout",
     "output_type": "stream",
     "text": [
      "VTR"
     ]
    },
    {
     "name": "stderr",
     "output_type": "stream",
     "text": [
      "\n",
      "\n"
     ]
    },
    {
     "name": "stdout",
     "output_type": "stream",
     "text": [
      "\n"
     ]
    },
    {
     "name": "stderr",
     "output_type": "stream",
     "text": [
      "b'Skipping line 4: expected 1 fields, saw 2\\n'\n"
     ]
    },
    {
     "name": "stdout",
     "output_type": "stream",
     "text": [
      "WLTWZBRA\n",
      "\n"
     ]
    },
    {
     "name": "stderr",
     "output_type": "stream",
     "text": [
      "b'Skipping line 4: expected 1 fields, saw 2\\n'b'Skipping line 4: expected 1 fields, saw 2\\n'\n",
      "\n"
     ]
    },
    {
     "name": "stdout",
     "output_type": "stream",
     "text": [
      "WBA\n",
      "UNH\n"
     ]
    },
    {
     "name": "stderr",
     "output_type": "stream",
     "text": [
      "b'Skipping line 4: expected 1 fields, saw 2\\n'\n"
     ]
    },
    {
     "name": "stdout",
     "output_type": "stream",
     "text": [
      "WDC\n"
     ]
    },
    {
     "name": "stderr",
     "output_type": "stream",
     "text": [
      "b'Skipping line 4: expected 1 fields, saw 2\\n'\n"
     ]
    },
    {
     "name": "stdout",
     "output_type": "stream",
     "text": [
      "VRSN\n"
     ]
    },
    {
     "name": "stderr",
     "output_type": "stream",
     "text": [
      "b'Skipping line 4: expected 1 fields, saw 2\\n'\n",
      "b'Skipping line 4: expected 1 fields, saw 2\\n'\n"
     ]
    },
    {
     "name": "stdout",
     "output_type": "stream",
     "text": [
      "WYNN\n",
      "ZBH\n"
     ]
    },
    {
     "name": "stderr",
     "output_type": "stream",
     "text": [
      "b'Skipping line 4: expected 1 fields, saw 2\\n'\n"
     ]
    },
    {
     "name": "stdout",
     "output_type": "stream",
     "text": [
      "DIS\n"
     ]
    },
    {
     "name": "stderr",
     "output_type": "stream",
     "text": [
      "b'Skipping line 4: expected 1 fields, saw 2\\n'\n",
      "b'Skipping line 4: expected 1 fields, saw 2\\n'\n"
     ]
    },
    {
     "name": "stdout",
     "output_type": "stream",
     "text": [
      "VTRS\n"
     ]
    },
    {
     "name": "stderr",
     "output_type": "stream",
     "text": [
      "b'Skipping line 4: expected 1 fields, saw 2\\n'\n",
      "b'Skipping line 4: expected 1 fields, saw 2\\n'\n",
      "b'Skipping line 4: expected 1 fields, saw 2\\n'\n",
      "b'Skipping line 4: expected 1 fields, saw 2\\n'\n"
     ]
    },
    {
     "name": "stdout",
     "output_type": "stream",
     "text": [
      "ZION\n"
     ]
    },
    {
     "name": "stderr",
     "output_type": "stream",
     "text": [
      "b'Skipping line 4: expected 1 fields, saw 2\\n'\n",
      "b'Skipping line 4: expected 1 fields, saw 2\\n'\n"
     ]
    },
    {
     "name": "stdout",
     "output_type": "stream",
     "text": [
      "V\n"
     ]
    },
    {
     "name": "stderr",
     "output_type": "stream",
     "text": [
      "b'Skipping line 4: expected 1 fields, saw 2\\n'\n",
      "b'Skipping line 4: expected 1 fields, saw 2\\n'\n"
     ]
    }
   ],
   "source": [
    "import requests\n",
    "import urllib\n",
    "from bs4 import BeautifulSoup\n",
    "import re\n",
    "import io\n",
    "import gzip\n",
    "import time\n",
    "import csv\n",
    "import os\n",
    "from selenium import webdriver\n",
    "from selenium.webdriver.common.keys import Keys\n",
    "from webdriver_manager.chrome import ChromeDriverManager\n",
    "from multiprocessing import Pool\n",
    "import import_ipynb\n",
    "import pandas as pd\n",
    "from ipynb.fs.full.scrape_weekly import scrape_monthly\n",
    "\n",
    "driver = webdriver.Chrome(ChromeDriverManager().install())\n",
    "url = \"https://en.wikipedia.org/wiki/List_of_S%26P_500_companies\"\n",
    "driver.get(url)\n",
    "\n",
    "symbols = list()\n",
    "symbols_GICC = dict()\n",
    "\n",
    "\n",
    "table = \"/html/body/div[3]/div[3]/div[5]/div[1]/table[1]\"\n",
    "table = driver.find_element_by_xpath(table)\n",
    "elements = table.find_elements_by_tag_name(\"tr\")[1:]\n",
    "    \n",
    "for row in elements:\n",
    "    data = [data.text for data in row.find_elements_by_tag_name(\"td\")]\n",
    "    symbols.append(data[0])\n",
    "    symbols_GICC[data[0]] = data[3]\n",
    "\n",
    "print(len(symbols_GICC))\n",
    "\n",
    "\n",
    "if __name__ == '__main__':\n",
    "    p = Pool(20)\n",
    "    p.map(scrape_monthly, symbols)\n",
    "    p.close()"
   ]
  },
  {
   "cell_type": "code",
   "execution_count": null,
   "metadata": {},
   "outputs": [],
   "source": []
  },
  {
   "cell_type": "code",
   "execution_count": null,
   "metadata": {},
   "outputs": [],
   "source": []
  }
 ],
 "metadata": {
  "kernelspec": {
   "display_name": "Python 3",
   "language": "python",
   "name": "python3"
  },
  "language_info": {
   "codemirror_mode": {
    "name": "ipython",
    "version": 3
   },
   "file_extension": ".py",
   "mimetype": "text/x-python",
   "name": "python",
   "nbconvert_exporter": "python",
   "pygments_lexer": "ipython3",
   "version": "3.8.3"
  }
 },
 "nbformat": 4,
 "nbformat_minor": 4
}
