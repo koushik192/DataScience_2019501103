{
 "cells": [
  {
   "cell_type": "code",
   "execution_count": 1,
   "metadata": {},
   "outputs": [
    {
     "name": "stderr",
     "output_type": "stream",
     "text": [
      "\n",
      "\n",
      "====== WebDriver manager ======\n",
      "Current google-chrome version is 90.0.4430\n",
      "Get LATEST driver version for 90.0.4430\n",
      "Driver [/home/koushik/.wdm/drivers/chromedriver/linux64/90.0.4430.24/chromedriver] found in cache\n"
     ]
    },
    {
     "name": "stdout",
     "output_type": "stream",
     "text": [
      "505\n",
      "ALLAEEMOMMMALGNAAPL\n",
      "ADMAONAMEADIALB\n",
      "APDAXPABMDADBEBLL\n",
      "\n",
      "\n",
      "\n",
      "\n",
      "BAXAESBLKBWACCLBMYCNPADSKCATCDWAWKAIZBF.BCDNSCSCOBBYCTXSCOFAVBSCHWCCICMGSTZCMSCLCAG\n",
      "DALDRIGLW\n",
      "\n",
      "CVS\n",
      "\n",
      "\n",
      "\n",
      "DXCMCIDFS\n",
      "DISH\n",
      "\n",
      "\n",
      "\n",
      "\n",
      "\n",
      "\n",
      "\n",
      "\n",
      "\n",
      "\n",
      "\n",
      "\n",
      "\n",
      "\n",
      "\n",
      "\n",
      "\n",
      "\n",
      "\n",
      "\n",
      "\n",
      "\n",
      "\n",
      "\n",
      "\n",
      "\n",
      "\n",
      "\n",
      "\n",
      "\n",
      "\n",
      "\n",
      "\n",
      "\n",
      "AAL\n",
      "ALLE\n",
      "GOOGL\n",
      "CERN\n",
      "ANETCARRAMGN\n",
      "\n",
      "LNTAVGODISCA\n",
      "\n",
      "\n",
      "AIGAEP\n",
      "ACN\n",
      "BDXAMP\n",
      "\n",
      "\n",
      "BACCHTR\n",
      "CF\n",
      "AMD\n",
      "\n",
      "\n",
      "CAHCZRCSXBXP\n",
      "\n",
      "CDVA\n",
      "AFL\n",
      "KOCLXBRAVYAMZNCE\n",
      "\n",
      "\n",
      "ADP\n",
      "COP\n",
      "AMATARE\n",
      "\n",
      "\n",
      "CMCSAAKAM\n",
      "XRAY\n",
      "\n",
      "DOW\n",
      "GOOG\n",
      "CTLTBIOANSSAPHDG\n",
      "\n",
      "DHID\n",
      "\n",
      "AAP\n",
      "ABC\n",
      "DRE\n",
      "AJGCINFCOOCVXCBAOS\n",
      "T\n",
      "\n",
      "\n",
      "\n",
      "CHRWCTVAATVIDISCKBK\n",
      "\n",
      "\n",
      "\n",
      "\n",
      "\n",
      "BABRK.B\n",
      "\n",
      "\n",
      "\n",
      "\n",
      "FANGABTAMTCBOE\n",
      "\n",
      "\n",
      "\n",
      "\n",
      "\n",
      "\n",
      "\n",
      "\n",
      "\n",
      "CPB\n",
      "CNCCMIAALXN\n",
      "KMXCTSH\n",
      "\n",
      "DVNCFGDEAPTV\n",
      "\n",
      "\n",
      "BSXCMEBKRCMA\n",
      "\n",
      "\n",
      "\n",
      "\n",
      "\n",
      "\n",
      "\n",
      "COST\n",
      "COG\n",
      "ECLEMN\n",
      "\n",
      "EA\n",
      "AMCRATOETR\n",
      "\n",
      "\n",
      "CPRT\n",
      "EQIX\n",
      "EL\n",
      "APA\n",
      "BIIB\n",
      "DTE\n",
      "ES\n",
      "EXPEXOM\n",
      "\n",
      "DLTR\n",
      "DD\n",
      "ANTMBKNG\n",
      "\n",
      "AZOALKFAST\n",
      "\n",
      "\n",
      "DHR\n",
      "FRCFIS\n",
      "\n",
      "CHD\n",
      "FLIRABBV\n",
      "\n",
      "DPZCBREDLRFTNT\n",
      "\n",
      "FOXAFCX\n",
      "\n",
      "\n",
      "\n",
      "IT\n",
      "GE\n",
      "GPC\n",
      "GPN\n",
      "HASHRL\n",
      "HSICHPQHPEHOLXEMR\n",
      "\n",
      "\n",
      "\n",
      "\n",
      "\n",
      "HAL\n",
      "ED\n",
      "HII\n",
      "ETN\n",
      "ETSY\n",
      "INCY\n",
      "EIXINFO\n",
      "\n",
      "ICE\n",
      "EOGIPGISRG\n",
      "\n",
      "\n",
      "IQVEQR\n",
      "\n",
      "J\n",
      "JNJ\n",
      "EXPD\n",
      "REDUK\n",
      "\n",
      "FOXJNPR\n",
      "KEY\n",
      "\n",
      "FFIV\n",
      "KIMKHC\n",
      "\n",
      "FISV\n",
      "FITB\n",
      "LHXLWDXC\n",
      "\n",
      "HLT\n",
      "LDOS\n",
      "DOV\n",
      "\n",
      "GPS\n",
      "FTVLNCFMC\n",
      "\n",
      "\n",
      "LOWLKQ\n",
      "BEN\n",
      "GSGIS\n",
      "GILD\n",
      "\n",
      "IRMJBHT\n",
      "IEXITW\n",
      "\n",
      "\n",
      "\n",
      "CTASENPHHSYIVZ\n",
      "\n",
      "ESS\n",
      "IFFEVRG\n",
      "IR\n",
      "\n",
      "\n",
      "JCIHBIHSTEBAY\n",
      "HUMEW\n",
      "EXCKEYSFBKR\n",
      "\n",
      "\n",
      "\n",
      "EFXHDIBM\n",
      "FLT\n",
      "\n",
      "\n",
      "\n",
      "MTB\n",
      "GRMN\n",
      "FEKSU\n",
      "\n",
      "EXRLVSFBHS\n",
      "\n",
      "\n",
      "LH\n",
      "MKTX\n",
      "LINMLM\n",
      "KMI\n",
      "\n",
      "\n",
      "GL\n",
      "JKHYLUMNLMTSJM\n",
      "\n",
      "GWWILMNLENMKC\n",
      "\n",
      "HFC\n",
      "FRT\n",
      "\n",
      "MCK\n",
      "\n",
      "F\n",
      "\n",
      "\n",
      "GNRC\n",
      "HCA\n",
      "\n",
      "IPGP\n",
      "\n",
      "METKMBINTUHES\n",
      "\n",
      "\n",
      "\n",
      "INTCHWM\n",
      "MCHP\n",
      "\n",
      "MAA\n",
      "HBANIDXX\n",
      "\n",
      "LBMDLZLEG\n",
      "MCONTAPNEMMARHIGGM\n",
      "\n",
      "\n",
      "MSIKIP\n",
      "\n",
      "NEEHON\n",
      "\n",
      "\n",
      "\n",
      "\n",
      "\n",
      "\n",
      "\n",
      "LYV\n",
      "JPM\n",
      "NI\n",
      "NOC\n",
      "NOV\n",
      "PEAK\n",
      "NVDA\n",
      "MRO\n",
      "ORLYOMC\n",
      "\n",
      "L\n",
      "OTIS\n",
      "MDT\n",
      "KLAC\n",
      "PYPLLLYPHMAS\n",
      "\n",
      "PBCTLRCX\n",
      "\n",
      "PNCLYBPSXPRGO\n",
      "\n",
      "\n",
      "\n",
      "\n",
      "\n",
      "GD\n",
      "MXIM\n",
      "NRG\n",
      "PPLPNW\n",
      "\n",
      "NLOK\n",
      "PGR\n",
      "OXYMTDPTC\n",
      "\n",
      "\n",
      "PHMPWRFDX\n",
      "MARL\n"
     ]
    },
    {
     "name": "stderr",
     "output_type": "stream",
     "text": [
      "b'Skipping line 4: expected 1 fields, saw 2\\n'"
     ]
    },
    {
     "name": "stdout",
     "output_type": "stream",
     "text": [
      "\n",
      "OMMC\n"
     ]
    },
    {
     "name": "stderr",
     "output_type": "stream",
     "text": [
      "\n"
     ]
    },
    {
     "name": "stdout",
     "output_type": "stream",
     "text": [
      "PAYX\n",
      "RF\n",
      "MRKMPWRMU\n",
      "\n",
      "\n",
      "\n",
      "\n",
      "\n"
     ]
    },
    {
     "name": "stderr",
     "output_type": "stream",
     "text": [
      "b'Skipping line 4: expected 1 fields, saw 2\\n'\n",
      "b'Skipping line 4: expected 1 fields, saw 2\\n'b'Skipping line 4: expected 1 fields, saw 2\\n'b'Skipping line 4: expected 1 fields, saw 2\\n'"
     ]
    },
    {
     "name": "stdout",
     "output_type": "stream",
     "text": [
      "PFE"
     ]
    },
    {
     "name": "stderr",
     "output_type": "stream",
     "text": [
      "b'Skipping line 4: expected 1 fields, saw 2\\n'"
     ]
    },
    {
     "name": "stdout",
     "output_type": "stream",
     "text": [
      "\n"
     ]
    },
    {
     "name": "stderr",
     "output_type": "stream",
     "text": [
      "\n",
      "\n",
      "b'Skipping line 4: expected 1 fields, saw 2\\n'"
     ]
    },
    {
     "name": "stdout",
     "output_type": "stream",
     "text": [
      "RHI"
     ]
    },
    {
     "name": "stderr",
     "output_type": "stream",
     "text": [
      "\n",
      "\n",
      "b'Skipping line 4: expected 1 fields, saw 2\\n'"
     ]
    },
    {
     "name": "stdout",
     "output_type": "stream",
     "text": [
      "\n"
     ]
    },
    {
     "name": "stderr",
     "output_type": "stream",
     "text": [
      "b'Skipping line 4: expected 1 fields, saw 2\\n'b'Skipping line 4: expected 1 fields, saw 2\\n'"
     ]
    },
    {
     "name": "stdout",
     "output_type": "stream",
     "text": [
      "OKE"
     ]
    },
    {
     "name": "stderr",
     "output_type": "stream",
     "text": [
      "b'Skipping line 4: expected 1 fields, saw 2\\n'\n"
     ]
    },
    {
     "name": "stdout",
     "output_type": "stream",
     "text": [
      "\n"
     ]
    },
    {
     "name": "stderr",
     "output_type": "stream",
     "text": [
      "\n",
      "\n",
      "\n",
      "b'Skipping line 4: expected 1 fields, saw 2\\n'"
     ]
    },
    {
     "name": "stdout",
     "output_type": "stream",
     "text": [
      "MPCSLB"
     ]
    },
    {
     "name": "stderr",
     "output_type": "stream",
     "text": [
      "b'Skipping line 4: expected 1 fields, saw 2\\n'\n"
     ]
    },
    {
     "name": "stdout",
     "output_type": "stream",
     "text": [
      "ROPNSCMSCISPGI"
     ]
    },
    {
     "name": "stderr",
     "output_type": "stream",
     "text": [
      "b'Skipping line 4: expected 1 fields, saw 2\\n'"
     ]
    },
    {
     "name": "stdout",
     "output_type": "stream",
     "text": [
      "NLSN"
     ]
    },
    {
     "name": "stderr",
     "output_type": "stream",
     "text": [
      "b'Skipping line 4: expected 1 fields, saw 2\\n'"
     ]
    },
    {
     "name": "stdout",
     "output_type": "stream",
     "text": [
      "\n"
     ]
    },
    {
     "name": "stderr",
     "output_type": "stream",
     "text": [
      "b'Skipping line 4: expected 1 fields, saw 2\\n'b'Skipping line 4: expected 1 fields, saw 2\\n'"
     ]
    },
    {
     "name": "stdout",
     "output_type": "stream",
     "text": [
      "NFLXSO"
     ]
    },
    {
     "name": "stderr",
     "output_type": "stream",
     "text": [
      "\n"
     ]
    },
    {
     "name": "stdout",
     "output_type": "stream",
     "text": [
      "SBUX"
     ]
    },
    {
     "name": "stderr",
     "output_type": "stream",
     "text": [
      "b'Skipping line 4: expected 1 fields, saw 2\\n'"
     ]
    },
    {
     "name": "stdout",
     "output_type": "stream",
     "text": [
      "SRE\n"
     ]
    },
    {
     "name": "stderr",
     "output_type": "stream",
     "text": [
      "\n"
     ]
    },
    {
     "name": "stdout",
     "output_type": "stream",
     "text": [
      "\n",
      "\n"
     ]
    },
    {
     "name": "stderr",
     "output_type": "stream",
     "text": [
      "\n"
     ]
    },
    {
     "name": "stdout",
     "output_type": "stream",
     "text": [
      "SPG"
     ]
    },
    {
     "name": "stderr",
     "output_type": "stream",
     "text": [
      "\n",
      "\n",
      "b'Skipping line 4: expected 1 fields, saw 2\\n'"
     ]
    },
    {
     "name": "stdout",
     "output_type": "stream",
     "text": [
      "\n",
      "MHKSYK"
     ]
    },
    {
     "name": "stderr",
     "output_type": "stream",
     "text": [
      "b'Skipping line 4: expected 1 fields, saw 2\\n'\n"
     ]
    },
    {
     "name": "stdout",
     "output_type": "stream",
     "text": [
      "\n",
      "\n",
      "\n",
      "\n",
      "TGTPCAR"
     ]
    },
    {
     "name": "stderr",
     "output_type": "stream",
     "text": [
      "\n",
      "b'Skipping line 4: expected 1 fields, saw 2\\n'"
     ]
    },
    {
     "name": "stdout",
     "output_type": "stream",
     "text": [
      "TROW"
     ]
    },
    {
     "name": "stderr",
     "output_type": "stream",
     "text": [
      "b'Skipping line 4: expected 1 fields, saw 2\\n'"
     ]
    },
    {
     "name": "stdout",
     "output_type": "stream",
     "text": [
      "NVR"
     ]
    },
    {
     "name": "stderr",
     "output_type": "stream",
     "text": [
      "\n"
     ]
    },
    {
     "name": "stdout",
     "output_type": "stream",
     "text": [
      "NWSA\n",
      "\n",
      "\n"
     ]
    },
    {
     "name": "stderr",
     "output_type": "stream",
     "text": [
      "\n"
     ]
    },
    {
     "name": "stdout",
     "output_type": "stream",
     "text": [
      "SNPS\n",
      "\n",
      "\n",
      "\n"
     ]
    },
    {
     "name": "stderr",
     "output_type": "stream",
     "text": [
      "b'Skipping line 4: expected 1 fields, saw 2\\n'b'Skipping line 4: expected 1 fields, saw 2\\n'\n",
      "b'Skipping line 4: expected 1 fields, saw 2\\n'"
     ]
    },
    {
     "name": "stdout",
     "output_type": "stream",
     "text": [
      "PENNPOOL\n",
      "\n"
     ]
    },
    {
     "name": "stderr",
     "output_type": "stream",
     "text": [
      "b'Skipping line 4: expected 1 fields, saw 2\\n'"
     ]
    },
    {
     "name": "stdout",
     "output_type": "stream",
     "text": [
      "\n"
     ]
    },
    {
     "name": "stderr",
     "output_type": "stream",
     "text": [
      "\n",
      "\n"
     ]
    },
    {
     "name": "stdout",
     "output_type": "stream",
     "text": [
      "TFX"
     ]
    },
    {
     "name": "stderr",
     "output_type": "stream",
     "text": [
      "\n"
     ]
    },
    {
     "name": "stdout",
     "output_type": "stream",
     "text": [
      "\n",
      "MCD\n"
     ]
    },
    {
     "name": "stderr",
     "output_type": "stream",
     "text": [
      "\n",
      "\n",
      "b'Skipping line 4: expected 1 fields, saw 2\\n'"
     ]
    },
    {
     "name": "stdout",
     "output_type": "stream",
     "text": [
      "\n",
      "\n",
      "\n"
     ]
    },
    {
     "name": "stderr",
     "output_type": "stream",
     "text": [
      "b'Skipping line 4: expected 1 fields, saw 2\\n'b'Skipping line 4: expected 1 fields, saw 2\\n'"
     ]
    },
    {
     "name": "stdout",
     "output_type": "stream",
     "text": [
      "ODFL"
     ]
    },
    {
     "name": "stderr",
     "output_type": "stream",
     "text": [
      "b'Skipping line 4: expected 1 fields, saw 2\\n'\n",
      "\n",
      "\n",
      "b'Skipping line 4: expected 1 fields, saw 2\\n'"
     ]
    },
    {
     "name": "stdout",
     "output_type": "stream",
     "text": [
      "NCLHTXNPLDPFG"
     ]
    },
    {
     "name": "stderr",
     "output_type": "stream",
     "text": [
      "\n"
     ]
    },
    {
     "name": "stdout",
     "output_type": "stream",
     "text": [
      "\n",
      "\n",
      "PXD\n",
      "\n"
     ]
    },
    {
     "name": "stderr",
     "output_type": "stream",
     "text": [
      "\n"
     ]
    },
    {
     "name": "stdout",
     "output_type": "stream",
     "text": [
      "PEGMGMNUEQCOM"
     ]
    },
    {
     "name": "stderr",
     "output_type": "stream",
     "text": [
      "b'Skipping line 4: expected 1 fields, saw 2\\n'"
     ]
    },
    {
     "name": "stdout",
     "output_type": "stream",
     "text": [
      "\n"
     ]
    },
    {
     "name": "stderr",
     "output_type": "stream",
     "text": [
      "\n"
     ]
    },
    {
     "name": "stdout",
     "output_type": "stream",
     "text": [
      "\n",
      "RSG\n",
      "\n",
      "\n",
      "\n",
      "\n"
     ]
    },
    {
     "name": "stderr",
     "output_type": "stream",
     "text": [
      "b'Skipping line 4: expected 1 fields, saw 2\\n'b'Skipping line 4: expected 1 fields, saw 2\\n'\n",
      "b'Skipping line 4: expected 1 fields, saw 2\\n'b'Skipping line 4: expected 1 fields, saw 2\\n'b'Skipping line 4: expected 1 fields, saw 2\\n'\n"
     ]
    },
    {
     "name": "stdout",
     "output_type": "stream",
     "text": [
      "RJF"
     ]
    },
    {
     "name": "stderr",
     "output_type": "stream",
     "text": [
      "\n"
     ]
    },
    {
     "name": "stdout",
     "output_type": "stream",
     "text": [
      "\n",
      "TJX"
     ]
    },
    {
     "name": "stderr",
     "output_type": "stream",
     "text": [
      "\n",
      "b'Skipping line 4: expected 1 fields, saw 2\\n'"
     ]
    },
    {
     "name": "stdout",
     "output_type": "stream",
     "text": [
      "\n"
     ]
    },
    {
     "name": "stderr",
     "output_type": "stream",
     "text": [
      "\n"
     ]
    },
    {
     "name": "stdout",
     "output_type": "stream",
     "text": [
      "TFCTSN"
     ]
    },
    {
     "name": "stderr",
     "output_type": "stream",
     "text": [
      "\n"
     ]
    },
    {
     "name": "stdout",
     "output_type": "stream",
     "text": [
      "TDG\n",
      "\n",
      "\n"
     ]
    },
    {
     "name": "stderr",
     "output_type": "stream",
     "text": [
      "b'Skipping line 4: expected 1 fields, saw 2\\n'\n"
     ]
    },
    {
     "name": "stdout",
     "output_type": "stream",
     "text": [
      "PAYCMNST\n",
      "\n"
     ]
    },
    {
     "name": "stderr",
     "output_type": "stream",
     "text": [
      "b'Skipping line 4: expected 1 fields, saw 2\\n'b'Skipping line 4: expected 1 fields, saw 2\\n'\n",
      "\n"
     ]
    },
    {
     "name": "stdout",
     "output_type": "stream",
     "text": [
      "PVH\n"
     ]
    },
    {
     "name": "stderr",
     "output_type": "stream",
     "text": [
      "b'Skipping line 4: expected 1 fields, saw 2\\n'"
     ]
    },
    {
     "name": "stdout",
     "output_type": "stream",
     "text": [
      "MSFT\n"
     ]
    },
    {
     "name": "stderr",
     "output_type": "stream",
     "text": [
      "b'Skipping line 4: expected 1 fields, saw 2\\n'\n"
     ]
    },
    {
     "name": "stdout",
     "output_type": "stream",
     "text": [
      "ROK"
     ]
    },
    {
     "name": "stderr",
     "output_type": "stream",
     "text": [
      "b'Skipping line 4: expected 1 fields, saw 2\\n'\n",
      "b'Skipping line 4: expected 1 fields, saw 2\\n'"
     ]
    },
    {
     "name": "stdout",
     "output_type": "stream",
     "text": [
      "\n"
     ]
    },
    {
     "name": "stderr",
     "output_type": "stream",
     "text": [
      "\n"
     ]
    },
    {
     "name": "stdout",
     "output_type": "stream",
     "text": [
      "ORCL"
     ]
    },
    {
     "name": "stderr",
     "output_type": "stream",
     "text": [
      "b'Skipping line 4: expected 1 fields, saw 2\\n'\n",
      "\n",
      "b'Skipping line 4: expected 1 fields, saw 2\\n'b'Skipping line 4: expected 1 fields, saw 2\\n'\n",
      "b'Skipping line 4: expected 1 fields, saw 2\\n'b'Skipping line 4: expected 1 fields, saw 2\\n'b'Skipping line 4: expected 1 fields, saw 2\\n'\n",
      "\n",
      "\n"
     ]
    },
    {
     "name": "stdout",
     "output_type": "stream",
     "text": [
      "USBSTX\n",
      "\n",
      "PEPSTT\n"
     ]
    },
    {
     "name": "stderr",
     "output_type": "stream",
     "text": [
      "\n"
     ]
    },
    {
     "name": "stdout",
     "output_type": "stream",
     "text": [
      "\n",
      "MS"
     ]
    },
    {
     "name": "stderr",
     "output_type": "stream",
     "text": [
      "b'Skipping line 4: expected 1 fields, saw 2\\n'"
     ]
    },
    {
     "name": "stdout",
     "output_type": "stream",
     "text": [
      "\n",
      "\n"
     ]
    },
    {
     "name": "stderr",
     "output_type": "stream",
     "text": [
      "b'Skipping line 4: expected 1 fields, saw 2\\n'\n",
      "b'Skipping line 4: expected 1 fields, saw 2\\n'"
     ]
    },
    {
     "name": "stdout",
     "output_type": "stream",
     "text": [
      "TEL"
     ]
    },
    {
     "name": "stderr",
     "output_type": "stream",
     "text": [
      "b'Skipping line 4: expected 1 fields, saw 2\\n'b'Skipping line 4: expected 1 fields, saw 2\\n'\n",
      "b'Skipping line 4: expected 1 fields, saw 2\\n'b'Skipping line 4: expected 1 fields, saw 2\\n'\n"
     ]
    },
    {
     "name": "stdout",
     "output_type": "stream",
     "text": [
      "CRM\n"
     ]
    },
    {
     "name": "stderr",
     "output_type": "stream",
     "text": [
      "\n"
     ]
    },
    {
     "name": "stdout",
     "output_type": "stream",
     "text": [
      "PNRNOWNDAQ"
     ]
    },
    {
     "name": "stderr",
     "output_type": "stream",
     "text": [
      "b'Skipping line 4: expected 1 fields, saw 2\\n'"
     ]
    },
    {
     "name": "stdout",
     "output_type": "stream",
     "text": [
      "\n"
     ]
    },
    {
     "name": "stderr",
     "output_type": "stream",
     "text": [
      "b'Skipping line 4: expected 1 fields, saw 2\\n'\n"
     ]
    },
    {
     "name": "stdout",
     "output_type": "stream",
     "text": [
      "\n"
     ]
    },
    {
     "name": "stderr",
     "output_type": "stream",
     "text": [
      "\n",
      "\n",
      "b'Skipping line 4: expected 1 fields, saw 2\\n'b'Skipping line 4: expected 1 fields, saw 2\\n'\n"
     ]
    },
    {
     "name": "stdout",
     "output_type": "stream",
     "text": [
      "SYY"
     ]
    },
    {
     "name": "stderr",
     "output_type": "stream",
     "text": [
      "\n"
     ]
    },
    {
     "name": "stdout",
     "output_type": "stream",
     "text": [
      "\n"
     ]
    },
    {
     "name": "stderr",
     "output_type": "stream",
     "text": [
      "b'Skipping line 4: expected 1 fields, saw 2\\n'"
     ]
    },
    {
     "name": "stdout",
     "output_type": "stream",
     "text": [
      "PM\n"
     ]
    },
    {
     "name": "stderr",
     "output_type": "stream",
     "text": [
      "\n"
     ]
    },
    {
     "name": "stdout",
     "output_type": "stream",
     "text": [
      "TAP"
     ]
    },
    {
     "name": "stderr",
     "output_type": "stream",
     "text": [
      "b'Skipping line 4: expected 1 fields, saw 2\\n'"
     ]
    },
    {
     "name": "stdout",
     "output_type": "stream",
     "text": [
      "SIVB\n"
     ]
    },
    {
     "name": "stderr",
     "output_type": "stream",
     "text": [
      "\n"
     ]
    },
    {
     "name": "stdout",
     "output_type": "stream",
     "text": [
      "\n"
     ]
    },
    {
     "name": "stderr",
     "output_type": "stream",
     "text": [
      "b'Skipping line 4: expected 1 fields, saw 2\\n'"
     ]
    },
    {
     "name": "stdout",
     "output_type": "stream",
     "text": [
      "\n"
     ]
    },
    {
     "name": "stderr",
     "output_type": "stream",
     "text": [
      "\n"
     ]
    },
    {
     "name": "stdout",
     "output_type": "stream",
     "text": [
      "NTRS"
     ]
    },
    {
     "name": "stderr",
     "output_type": "stream",
     "text": [
      "\n"
     ]
    },
    {
     "name": "stdout",
     "output_type": "stream",
     "text": [
      "\n",
      "\n",
      "SWKS\n",
      "NXPITTWOPPG"
     ]
    },
    {
     "name": "stderr",
     "output_type": "stream",
     "text": [
      "\n"
     ]
    },
    {
     "name": "stdout",
     "output_type": "stream",
     "text": [
      "LUVROST\n",
      "\n"
     ]
    },
    {
     "name": "stderr",
     "output_type": "stream",
     "text": [
      "b'Skipping line 4: expected 1 fields, saw 2\\n'"
     ]
    },
    {
     "name": "stdout",
     "output_type": "stream",
     "text": [
      "\n",
      "\n"
     ]
    },
    {
     "name": "stderr",
     "output_type": "stream",
     "text": [
      "b'Skipping line 4: expected 1 fields, saw 2\\n'"
     ]
    },
    {
     "name": "stdout",
     "output_type": "stream",
     "text": [
      "\n"
     ]
    },
    {
     "name": "stderr",
     "output_type": "stream",
     "text": [
      "b'Skipping line 4: expected 1 fields, saw 2\\n'\n"
     ]
    },
    {
     "name": "stdout",
     "output_type": "stream",
     "text": [
      "NWS"
     ]
    },
    {
     "name": "stderr",
     "output_type": "stream",
     "text": [
      "b'Skipping line 4: expected 1 fields, saw 2\\n'"
     ]
    },
    {
     "name": "stdout",
     "output_type": "stream",
     "text": [
      "\n",
      "TER"
     ]
    },
    {
     "name": "stderr",
     "output_type": "stream",
     "text": [
      "b'Skipping line 4: expected 1 fields, saw 2\\n'\n",
      "b'Skipping line 4: expected 1 fields, saw 2\\n'\n",
      "b'Skipping line 4: expected 1 fields, saw 2\\n'b'Skipping line 4: expected 1 fields, saw 2\\n'b'Skipping line 4: expected 1 fields, saw 2\\n'"
     ]
    },
    {
     "name": "stdout",
     "output_type": "stream",
     "text": [
      "PRU"
     ]
    },
    {
     "name": "stderr",
     "output_type": "stream",
     "text": [
      "\n",
      "\n"
     ]
    },
    {
     "name": "stdout",
     "output_type": "stream",
     "text": [
      "\n"
     ]
    },
    {
     "name": "stderr",
     "output_type": "stream",
     "text": [
      "b'Skipping line 4: expected 1 fields, saw 2\\n'\n"
     ]
    },
    {
     "name": "stdout",
     "output_type": "stream",
     "text": [
      "UNP"
     ]
    },
    {
     "name": "stderr",
     "output_type": "stream",
     "text": [
      "\n",
      "b'Skipping line 4: expected 1 fields, saw 2\\n'b'Skipping line 4: expected 1 fields, saw 2\\n'\n",
      "b'Skipping line 4: expected 1 fields, saw 2\\n'\n",
      "\n",
      "b'Skipping line 4: expected 1 fields, saw 2\\n'"
     ]
    },
    {
     "name": "stdout",
     "output_type": "stream",
     "text": [
      "\n",
      "DGXREG"
     ]
    },
    {
     "name": "stderr",
     "output_type": "stream",
     "text": [
      "b'Skipping line 4: expected 1 fields, saw 2\\n'b'Skipping line 4: expected 1 fields, saw 2\\n'"
     ]
    },
    {
     "name": "stdout",
     "output_type": "stream",
     "text": [
      "UPS"
     ]
    },
    {
     "name": "stderr",
     "output_type": "stream",
     "text": [
      "\n"
     ]
    },
    {
     "name": "stdout",
     "output_type": "stream",
     "text": [
      "\n",
      "UNM\n"
     ]
    },
    {
     "name": "stderr",
     "output_type": "stream",
     "text": [
      "b'Skipping line 4: expected 1 fields, saw 2\\n'b'Skipping line 4: expected 1 fields, saw 2\\n'b'Skipping line 4: expected 1 fields, saw 2\\n'\n"
     ]
    },
    {
     "name": "stdout",
     "output_type": "stream",
     "text": [
      "PKG\n"
     ]
    },
    {
     "name": "stderr",
     "output_type": "stream",
     "text": [
      "b'Skipping line 4: expected 1 fields, saw 2\\n'\n",
      "\n"
     ]
    },
    {
     "name": "stdout",
     "output_type": "stream",
     "text": [
      "TXTTRV"
     ]
    },
    {
     "name": "stderr",
     "output_type": "stream",
     "text": [
      "\n"
     ]
    },
    {
     "name": "stdout",
     "output_type": "stream",
     "text": [
      "\n"
     ]
    },
    {
     "name": "stderr",
     "output_type": "stream",
     "text": [
      "\n",
      "\n",
      "\n"
     ]
    },
    {
     "name": "stdout",
     "output_type": "stream",
     "text": [
      "\n"
     ]
    },
    {
     "name": "stderr",
     "output_type": "stream",
     "text": [
      "\n"
     ]
    },
    {
     "name": "stdout",
     "output_type": "stream",
     "text": [
      "\n"
     ]
    },
    {
     "name": "stderr",
     "output_type": "stream",
     "text": [
      "b'Skipping line 4: expected 1 fields, saw 2\\n'b'Skipping line 4: expected 1 fields, saw 2\\n'b'Skipping line 4: expected 1 fields, saw 2\\n'"
     ]
    },
    {
     "name": "stdout",
     "output_type": "stream",
     "text": [
      "PSA\n"
     ]
    },
    {
     "name": "stderr",
     "output_type": "stream",
     "text": [
      "b'Skipping line 4: expected 1 fields, saw 2\\n'\n"
     ]
    },
    {
     "name": "stdout",
     "output_type": "stream",
     "text": [
      "VRTX"
     ]
    },
    {
     "name": "stderr",
     "output_type": "stream",
     "text": [
      "\n",
      "\n"
     ]
    },
    {
     "name": "stdout",
     "output_type": "stream",
     "text": [
      "VRSN\n",
      "\n"
     ]
    },
    {
     "name": "stderr",
     "output_type": "stream",
     "text": [
      "b'Skipping line 4: expected 1 fields, saw 2\\n'b'Skipping line 4: expected 1 fields, saw 2\\n'"
     ]
    },
    {
     "name": "stdout",
     "output_type": "stream",
     "text": [
      "\n",
      "RMDTWTR"
     ]
    },
    {
     "name": "stderr",
     "output_type": "stream",
     "text": [
      "\n"
     ]
    },
    {
     "name": "stdout",
     "output_type": "stream",
     "text": [
      "VTRSTSCO\n"
     ]
    },
    {
     "name": "stderr",
     "output_type": "stream",
     "text": [
      "\n"
     ]
    },
    {
     "name": "stdout",
     "output_type": "stream",
     "text": [
      "\n",
      "\n",
      "UDRQRVONKERTX"
     ]
    },
    {
     "name": "stderr",
     "output_type": "stream",
     "text": [
      "\n",
      "\n"
     ]
    },
    {
     "name": "stdout",
     "output_type": "stream",
     "text": [
      "\n",
      "\n",
      "\n",
      "\n",
      "PGUAAROLVMC\n",
      "\n"
     ]
    },
    {
     "name": "stderr",
     "output_type": "stream",
     "text": [
      "b'Skipping line 4: expected 1 fields, saw 2\\n'"
     ]
    },
    {
     "name": "stdout",
     "output_type": "stream",
     "text": [
      "WMT\n"
     ]
    },
    {
     "name": "stderr",
     "output_type": "stream",
     "text": [
      "b'Skipping line 4: expected 1 fields, saw 2\\n'"
     ]
    },
    {
     "name": "stdout",
     "output_type": "stream",
     "text": [
      "\n",
      "\n",
      "\n"
     ]
    },
    {
     "name": "stderr",
     "output_type": "stream",
     "text": [
      "\n",
      "b'Skipping line 4: expected 1 fields, saw 2\\n'b'Skipping line 4: expected 1 fields, saw 2\\n'b'Skipping line 4: expected 1 fields, saw 2\\n'\n"
     ]
    },
    {
     "name": "stdout",
     "output_type": "stream",
     "text": [
      "\n"
     ]
    },
    {
     "name": "stderr",
     "output_type": "stream",
     "text": [
      "\n",
      "\n"
     ]
    },
    {
     "name": "stdout",
     "output_type": "stream",
     "text": [
      "WM"
     ]
    },
    {
     "name": "stderr",
     "output_type": "stream",
     "text": [
      "b'Skipping line 4: expected 1 fields, saw 2\\n'b'Skipping line 4: expected 1 fields, saw 2\\n'b'Skipping line 4: expected 1 fields, saw 2\\n'"
     ]
    },
    {
     "name": "stdout",
     "output_type": "stream",
     "text": [
      "SYFTDY"
     ]
    },
    {
     "name": "stderr",
     "output_type": "stream",
     "text": [
      "\n"
     ]
    },
    {
     "name": "stdout",
     "output_type": "stream",
     "text": [
      "\n"
     ]
    },
    {
     "name": "stderr",
     "output_type": "stream",
     "text": [
      "b'Skipping line 4: expected 1 fields, saw 2\\n'b'Skipping line 4: expected 1 fields, saw 2\\n'b'Skipping line 4: expected 1 fields, saw 2\\n'"
     ]
    },
    {
     "name": "stdout",
     "output_type": "stream",
     "text": [
      "NWL"
     ]
    },
    {
     "name": "stderr",
     "output_type": "stream",
     "text": [
      "b'Skipping line 4: expected 1 fields, saw 2\\n'\n",
      "b'Skipping line 4: expected 1 fields, saw 2\\n'b'Skipping line 4: expected 1 fields, saw 2\\n'\n"
     ]
    },
    {
     "name": "stdout",
     "output_type": "stream",
     "text": [
      "\n"
     ]
    },
    {
     "name": "stderr",
     "output_type": "stream",
     "text": [
      "\n",
      "\n"
     ]
    },
    {
     "name": "stdout",
     "output_type": "stream",
     "text": [
      "WFC"
     ]
    },
    {
     "name": "stderr",
     "output_type": "stream",
     "text": [
      "\n"
     ]
    },
    {
     "name": "stdout",
     "output_type": "stream",
     "text": [
      "\n"
     ]
    },
    {
     "name": "stderr",
     "output_type": "stream",
     "text": [
      "b'Skipping line 4: expected 1 fields, saw 2\\n'b'Skipping line 4: expected 1 fields, saw 2\\n'\n"
     ]
    },
    {
     "name": "stdout",
     "output_type": "stream",
     "text": [
      "\n",
      "PKI"
     ]
    },
    {
     "name": "stderr",
     "output_type": "stream",
     "text": [
      "b'Skipping line 4: expected 1 fields, saw 2\\n'b'Skipping line 4: expected 1 fields, saw 2\\n'b'Skipping line 4: expected 1 fields, saw 2\\n'\n",
      "\n",
      "\n",
      "b'Skipping line 4: expected 1 fields, saw 2\\n'b'Skipping line 4: expected 1 fields, saw 2\\n'\n"
     ]
    },
    {
     "name": "stdout",
     "output_type": "stream",
     "text": [
      "SHW\n"
     ]
    },
    {
     "name": "stderr",
     "output_type": "stream",
     "text": [
      "\n",
      "\n"
     ]
    },
    {
     "name": "stdout",
     "output_type": "stream",
     "text": [
      "\n"
     ]
    },
    {
     "name": "stderr",
     "output_type": "stream",
     "text": [
      "\n"
     ]
    },
    {
     "name": "stdout",
     "output_type": "stream",
     "text": [
      "WYSTEWDCSEE\n"
     ]
    },
    {
     "name": "stderr",
     "output_type": "stream",
     "text": [
      "\n"
     ]
    },
    {
     "name": "stdout",
     "output_type": "stream",
     "text": [
      "\n",
      "\n",
      "\n",
      "SBAC"
     ]
    },
    {
     "name": "stderr",
     "output_type": "stream",
     "text": [
      "b'Skipping line 4: expected 1 fields, saw 2\\n'"
     ]
    },
    {
     "name": "stdout",
     "output_type": "stream",
     "text": [
      "\n",
      "WLTW"
     ]
    },
    {
     "name": "stderr",
     "output_type": "stream",
     "text": [
      "\n"
     ]
    },
    {
     "name": "stdout",
     "output_type": "stream",
     "text": [
      "TPRSWKXLNXZBRA\n"
     ]
    },
    {
     "name": "stderr",
     "output_type": "stream",
     "text": [
      "\n"
     ]
    },
    {
     "name": "stdout",
     "output_type": "stream",
     "text": [
      "ZTS\n",
      "\n",
      "\n",
      "TMUS"
     ]
    },
    {
     "name": "stderr",
     "output_type": "stream",
     "text": [
      "b'Skipping line 4: expected 1 fields, saw 2\\n'"
     ]
    },
    {
     "name": "stdout",
     "output_type": "stream",
     "text": [
      "\n"
     ]
    },
    {
     "name": "stderr",
     "output_type": "stream",
     "text": [
      "\n",
      "b'Skipping line 4: expected 1 fields, saw 2\\n'\n"
     ]
    },
    {
     "name": "stdout",
     "output_type": "stream",
     "text": [
      "\n",
      "\n",
      "\n"
     ]
    },
    {
     "name": "stderr",
     "output_type": "stream",
     "text": [
      "b'Skipping line 4: expected 1 fields, saw 2\\n'b'Skipping line 4: expected 1 fields, saw 2\\n'\n",
      "\n",
      "b'Skipping line 4: expected 1 fields, saw 2\\n'b'Skipping line 4: expected 1 fields, saw 2\\n'"
     ]
    },
    {
     "name": "stdout",
     "output_type": "stream",
     "text": [
      "TMO"
     ]
    },
    {
     "name": "stderr",
     "output_type": "stream",
     "text": [
      "b'Skipping line 4: expected 1 fields, saw 2\\n'b'Skipping line 4: expected 1 fields, saw 2\\n'"
     ]
    },
    {
     "name": "stdout",
     "output_type": "stream",
     "text": [
      "RCL"
     ]
    },
    {
     "name": "stderr",
     "output_type": "stream",
     "text": [
      "\n",
      "b'Skipping line 4: expected 1 fields, saw 2\\n'b'Skipping line 4: expected 1 fields, saw 2\\n'b'Skipping line 4: expected 1 fields, saw 2\\n'\n",
      "\n"
     ]
    },
    {
     "name": "stdout",
     "output_type": "stream",
     "text": [
      "\n"
     ]
    },
    {
     "name": "stderr",
     "output_type": "stream",
     "text": [
      "\n",
      "\n",
      "\n",
      "b'Skipping line 4: expected 1 fields, saw 2\\n'b'Skipping line 4: expected 1 fields, saw 2\\n'"
     ]
    },
    {
     "name": "stdout",
     "output_type": "stream",
     "text": [
      "URIUAL\n",
      "VRSK"
     ]
    },
    {
     "name": "stderr",
     "output_type": "stream",
     "text": [
      "\n"
     ]
    },
    {
     "name": "stdout",
     "output_type": "stream",
     "text": [
      "\n",
      "\n"
     ]
    },
    {
     "name": "stderr",
     "output_type": "stream",
     "text": [
      "\n",
      "b'Skipping line 4: expected 1 fields, saw 2\\n'\n"
     ]
    },
    {
     "name": "stdout",
     "output_type": "stream",
     "text": [
      "\n",
      "TSLA\n"
     ]
    },
    {
     "name": "stderr",
     "output_type": "stream",
     "text": [
      "b'Skipping line 4: expected 1 fields, saw 2\\n'\n",
      "\n"
     ]
    },
    {
     "name": "stdout",
     "output_type": "stream",
     "text": [
      "VFC\n"
     ]
    },
    {
     "name": "stderr",
     "output_type": "stream",
     "text": [
      "\n"
     ]
    },
    {
     "name": "stdout",
     "output_type": "stream",
     "text": [
      "TYLVLO"
     ]
    },
    {
     "name": "stderr",
     "output_type": "stream",
     "text": [
      "b'Skipping line 4: expected 1 fields, saw 2\\n'\n",
      "b'Skipping line 4: expected 1 fields, saw 2\\n'"
     ]
    },
    {
     "name": "stdout",
     "output_type": "stream",
     "text": [
      "V\n",
      "\n"
     ]
    },
    {
     "name": "stderr",
     "output_type": "stream",
     "text": [
      "\n"
     ]
    },
    {
     "name": "stdout",
     "output_type": "stream",
     "text": [
      "ULTA\n",
      "TRMB\n"
     ]
    },
    {
     "name": "stderr",
     "output_type": "stream",
     "text": [
      "b'Skipping line 4: expected 1 fields, saw 2\\n'"
     ]
    },
    {
     "name": "stdout",
     "output_type": "stream",
     "text": [
      "\n"
     ]
    },
    {
     "name": "stderr",
     "output_type": "stream",
     "text": [
      "b'Skipping line 4: expected 1 fields, saw 2\\n'b'Skipping line 4: expected 1 fields, saw 2\\n'b'Skipping line 4: expected 1 fields, saw 2\\n'\n",
      "b'Skipping line 4: expected 1 fields, saw 2\\n'\n",
      "b'Skipping line 4: expected 1 fields, saw 2\\n'"
     ]
    },
    {
     "name": "stdout",
     "output_type": "stream",
     "text": [
      "WBAUA"
     ]
    },
    {
     "name": "stderr",
     "output_type": "stream",
     "text": [
      "b'Skipping line 4: expected 1 fields, saw 2\\n'b'Skipping line 4: expected 1 fields, saw 2\\n'\n",
      "b'Skipping line 4: expected 1 fields, saw 2\\n'\n",
      "\n"
     ]
    },
    {
     "name": "stdout",
     "output_type": "stream",
     "text": [
      "\n"
     ]
    },
    {
     "name": "stderr",
     "output_type": "stream",
     "text": [
      "\n",
      "\n"
     ]
    },
    {
     "name": "stdout",
     "output_type": "stream",
     "text": [
      "\n"
     ]
    },
    {
     "name": "stderr",
     "output_type": "stream",
     "text": [
      "\n",
      "b'Skipping line 4: expected 1 fields, saw 2\\n'b'Skipping line 4: expected 1 fields, saw 2\\n'\n",
      "\n"
     ]
    },
    {
     "name": "stdout",
     "output_type": "stream",
     "text": [
      "WRBMOS\n",
      "\n"
     ]
    },
    {
     "name": "stderr",
     "output_type": "stream",
     "text": [
      "\n",
      "b'Skipping line 4: expected 1 fields, saw 2\\n'"
     ]
    },
    {
     "name": "stdout",
     "output_type": "stream",
     "text": [
      "SNA"
     ]
    },
    {
     "name": "stderr",
     "output_type": "stream",
     "text": [
      "b'Skipping line 4: expected 1 fields, saw 2\\n'\n"
     ]
    },
    {
     "name": "stdout",
     "output_type": "stream",
     "text": [
      "\n",
      "TT"
     ]
    },
    {
     "name": "stderr",
     "output_type": "stream",
     "text": [
      "\n",
      "b'Skipping line 4: expected 1 fields, saw 2\\n'"
     ]
    },
    {
     "name": "stdout",
     "output_type": "stream",
     "text": [
      "WAT"
     ]
    },
    {
     "name": "stderr",
     "output_type": "stream",
     "text": [
      "b'Skipping line 4: expected 1 fields, saw 2\\n'b'Skipping line 4: expected 1 fields, saw 2\\n'\n",
      "\n",
      "b'Skipping line 4: expected 1 fields, saw 2\\n'"
     ]
    },
    {
     "name": "stdout",
     "output_type": "stream",
     "text": [
      "\n"
     ]
    },
    {
     "name": "stderr",
     "output_type": "stream",
     "text": [
      "\n",
      "b'Skipping line 4: expected 1 fields, saw 2\\n'b'Skipping line 4: expected 1 fields, saw 2\\n'b'Skipping line 4: expected 1 fields, saw 2\\n'\n",
      "b'Skipping line 4: expected 1 fields, saw 2\\n'\n"
     ]
    },
    {
     "name": "stdout",
     "output_type": "stream",
     "text": [
      "\n"
     ]
    },
    {
     "name": "stderr",
     "output_type": "stream",
     "text": [
      "\n",
      "\n",
      "\n",
      "b'Skipping line 4: expected 1 fields, saw 2\\n'b'Skipping line 4: expected 1 fields, saw 2\\n'"
     ]
    },
    {
     "name": "stdout",
     "output_type": "stream",
     "text": [
      "WELL"
     ]
    },
    {
     "name": "stderr",
     "output_type": "stream",
     "text": [
      "\n",
      "\n",
      "b'Skipping line 4: expected 1 fields, saw 2\\n'\n"
     ]
    },
    {
     "name": "stdout",
     "output_type": "stream",
     "text": [
      "ZBHWHR\n",
      "\n",
      "WU\n",
      "\n"
     ]
    },
    {
     "name": "stderr",
     "output_type": "stream",
     "text": [
      "b'Skipping line 4: expected 1 fields, saw 2\\n'\n",
      "b'Skipping line 4: expected 1 fields, saw 2\\n'b'Skipping line 4: expected 1 fields, saw 2\\n'\n",
      "\n",
      "b'Skipping line 4: expected 1 fields, saw 2\\n'b'Skipping line 4: expected 1 fields, saw 2\\n'\n"
     ]
    },
    {
     "name": "stdout",
     "output_type": "stream",
     "text": [
      "REGN"
     ]
    },
    {
     "name": "stderr",
     "output_type": "stream",
     "text": [
      "\n"
     ]
    },
    {
     "name": "stdout",
     "output_type": "stream",
     "text": [
      "\n",
      "UHS\n"
     ]
    },
    {
     "name": "stderr",
     "output_type": "stream",
     "text": [
      "b'Skipping line 4: expected 1 fields, saw 2\\n'b'Skipping line 4: expected 1 fields, saw 2\\n'\n",
      "\n",
      "b'Skipping line 4: expected 1 fields, saw 2\\n'b'Skipping line 4: expected 1 fields, saw 2\\n'\n",
      "\n",
      "b'Skipping line 4: expected 1 fields, saw 2\\n'"
     ]
    },
    {
     "name": "stdout",
     "output_type": "stream",
     "text": [
      "VZ"
     ]
    },
    {
     "name": "stderr",
     "output_type": "stream",
     "text": [
      "\n"
     ]
    },
    {
     "name": "stdout",
     "output_type": "stream",
     "text": [
      "\n",
      "VTR\n"
     ]
    },
    {
     "name": "stderr",
     "output_type": "stream",
     "text": [
      "b'Skipping line 4: expected 1 fields, saw 2\\n'b'Skipping line 4: expected 1 fields, saw 2\\n'b'Skipping line 4: expected 1 fields, saw 2\\n'b'Skipping line 4: expected 1 fields, saw 2\\n'\n",
      "\n",
      "b'Skipping line 4: expected 1 fields, saw 2\\n'b'Skipping line 4: expected 1 fields, saw 2\\n'\n",
      "\n"
     ]
    },
    {
     "name": "stdout",
     "output_type": "stream",
     "text": [
      "WYNN"
     ]
    },
    {
     "name": "stderr",
     "output_type": "stream",
     "text": [
      "\n",
      "\n",
      "b'Skipping line 4: expected 1 fields, saw 2\\n'"
     ]
    },
    {
     "name": "stdout",
     "output_type": "stream",
     "text": [
      "VNO"
     ]
    },
    {
     "name": "stderr",
     "output_type": "stream",
     "text": [
      "\n"
     ]
    },
    {
     "name": "stdout",
     "output_type": "stream",
     "text": [
      "VIAC\n",
      "\n"
     ]
    },
    {
     "name": "stderr",
     "output_type": "stream",
     "text": [
      "b'Skipping line 4: expected 1 fields, saw 2\\n'"
     ]
    },
    {
     "name": "stdout",
     "output_type": "stream",
     "text": [
      "\n",
      "UNH"
     ]
    },
    {
     "name": "stderr",
     "output_type": "stream",
     "text": [
      "\n"
     ]
    },
    {
     "name": "stdout",
     "output_type": "stream",
     "text": [
      "\n",
      "DIS\n"
     ]
    },
    {
     "name": "stderr",
     "output_type": "stream",
     "text": [
      "b'Skipping line 4: expected 1 fields, saw 2\\n'b'Skipping line 4: expected 1 fields, saw 2\\n'\n",
      "\n"
     ]
    },
    {
     "name": "stdout",
     "output_type": "stream",
     "text": [
      "WAB\n"
     ]
    },
    {
     "name": "stderr",
     "output_type": "stream",
     "text": [
      "b'Skipping line 4: expected 1 fields, saw 2\\n'\n",
      "b'Skipping line 4: expected 1 fields, saw 2\\n'\n",
      "b'Skipping line 4: expected 1 fields, saw 2\\n'b'Skipping line 4: expected 1 fields, saw 2\\n'\n",
      "\n"
     ]
    },
    {
     "name": "stdout",
     "output_type": "stream",
     "text": [
      "WEC\n"
     ]
    },
    {
     "name": "stderr",
     "output_type": "stream",
     "text": [
      "b'Skipping line 4: expected 1 fields, saw 2\\n'"
     ]
    },
    {
     "name": "stdout",
     "output_type": "stream",
     "text": [
      "WST"
     ]
    },
    {
     "name": "stderr",
     "output_type": "stream",
     "text": [
      "\n"
     ]
    },
    {
     "name": "stdout",
     "output_type": "stream",
     "text": [
      "\n"
     ]
    },
    {
     "name": "stderr",
     "output_type": "stream",
     "text": [
      "b'Skipping line 4: expected 1 fields, saw 2\\n'\n",
      "b'Skipping line 4: expected 1 fields, saw 2\\n'"
     ]
    },
    {
     "name": "stdout",
     "output_type": "stream",
     "text": [
      "WRK"
     ]
    },
    {
     "name": "stderr",
     "output_type": "stream",
     "text": [
      "\n"
     ]
    },
    {
     "name": "stdout",
     "output_type": "stream",
     "text": [
      "WMBZION\n",
      "\n",
      "\n"
     ]
    },
    {
     "name": "stderr",
     "output_type": "stream",
     "text": [
      "b'Skipping line 4: expected 1 fields, saw 2\\n'\n",
      "b'Skipping line 4: expected 1 fields, saw 2\\n'b'Skipping line 4: expected 1 fields, saw 2\\n'\n",
      "\n"
     ]
    },
    {
     "name": "stdout",
     "output_type": "stream",
     "text": [
      "XYL\n"
     ]
    },
    {
     "name": "stderr",
     "output_type": "stream",
     "text": [
      "b'Skipping line 4: expected 1 fields, saw 2\\n'\n",
      "b'Skipping line 4: expected 1 fields, saw 2\\n'\n",
      "b'Skipping line 4: expected 1 fields, saw 2\\n'b'Skipping line 4: expected 1 fields, saw 2\\n'\n",
      "b'Skipping line 4: expected 1 fields, saw 2\\n'\n",
      "b'Skipping line 4: expected 1 fields, saw 2\\n'\n",
      "\n",
      "b'Skipping line 4: expected 1 fields, saw 2\\n'\n",
      "b'Skipping line 4: expected 1 fields, saw 2\\n'\n"
     ]
    },
    {
     "name": "stdout",
     "output_type": "stream",
     "text": [
      "XEL\n"
     ]
    },
    {
     "name": "stderr",
     "output_type": "stream",
     "text": [
      "b'Skipping line 4: expected 1 fields, saw 2\\n'b'Skipping line 4: expected 1 fields, saw 2\\n'b'Skipping line 4: expected 1 fields, saw 2\\n'\n",
      "\n",
      "\n",
      "b'Skipping line 4: expected 1 fields, saw 2\\n'\n",
      "b'Skipping line 4: expected 1 fields, saw 2\\n'\n",
      "b'Skipping line 4: expected 1 fields, saw 2\\n'\n"
     ]
    },
    {
     "name": "stdout",
     "output_type": "stream",
     "text": [
      "YUM\n"
     ]
    },
    {
     "name": "stderr",
     "output_type": "stream",
     "text": [
      "b'Skipping line 4: expected 1 fields, saw 2\\n'\n",
      "b'Skipping line 4: expected 1 fields, saw 2\\n'\n",
      "b'Skipping line 4: expected 1 fields, saw 2\\n'\n"
     ]
    }
   ],
   "source": [
    "import requests\n",
    "import urllib\n",
    "from bs4 import BeautifulSoup\n",
    "import re\n",
    "import io\n",
    "import gzip\n",
    "import time\n",
    "import csv\n",
    "import os\n",
    "from selenium import webdriver\n",
    "from selenium.webdriver.common.keys import Keys\n",
    "from webdriver_manager.chrome import ChromeDriverManager\n",
    "from multiprocessing import Pool\n",
    "import import_ipynb\n",
    "import pandas as pd\n",
    "from ipynb.fs.full.scrape_weekly import scrape_weekly\n",
    "\n",
    "driver = webdriver.Chrome(ChromeDriverManager().install())\n",
    "url = \"https://en.wikipedia.org/wiki/List_of_S%26P_500_companies\"\n",
    "driver.get(url)\n",
    "\n",
    "symbols = list()\n",
    "symbols_GICC = dict()\n",
    "\n",
    "table = \"/html/body/div[3]/div[3]/div[5]/div[1]/table[1]\"\n",
    "table = driver.find_element_by_xpath(table)\n",
    "elements = table.find_elements_by_tag_name(\"tr\")[1:]\n",
    "\n",
    "for row in elements:\n",
    "    data = [data.text for data in row.find_elements_by_tag_name(\"td\")]\n",
    "    symbols.append(data[0])\n",
    "    symbols_GICC[data[0]] = data[3]\n",
    "\n",
    "print(len(symbols_GICC))\n",
    "    \n",
    "\n",
    "if __name__ == '__main__':\n",
    "    p = Pool(50)\n",
    "    df_daily_list = p.map(scrape_weekly, symbols)\n",
    "    p.close()"
   ]
  },
  {
   "cell_type": "code",
   "execution_count": null,
   "metadata": {},
   "outputs": [],
   "source": []
  }
 ],
 "metadata": {
  "kernelspec": {
   "display_name": "Python 3",
   "language": "python",
   "name": "python3"
  },
  "language_info": {
   "codemirror_mode": {
    "name": "ipython",
    "version": 3
   },
   "file_extension": ".py",
   "mimetype": "text/x-python",
   "name": "python",
   "nbconvert_exporter": "python",
   "pygments_lexer": "ipython3",
   "version": "3.8.3"
  }
 },
 "nbformat": 4,
 "nbformat_minor": 4
}
